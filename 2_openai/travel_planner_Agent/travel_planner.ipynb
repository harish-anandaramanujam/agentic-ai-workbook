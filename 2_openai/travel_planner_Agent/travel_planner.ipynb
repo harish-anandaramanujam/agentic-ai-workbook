{
 "cells": [
  {
   "cell_type": "code",
   "execution_count": 1,
   "metadata": {},
   "outputs": [],
   "source": [
    "from dotenv import load_dotenv\n",
    "from agents import Agent, Runner, trace, function_tool\n",
    "from openai.types.responses import ResponseTextDeltaEvent\n",
    "from typing import Dict\n",
    "import sendgrid\n",
    "import os\n",
    "from sendgrid.helpers.mail import Mail, Email, To, Content\n",
    "import asyncio\n"
   ]
  },
  {
   "cell_type": "code",
   "execution_count": 2,
   "metadata": {},
   "outputs": [
    {
     "data": {
      "text/plain": [
       "True"
      ]
     },
     "execution_count": 2,
     "metadata": {},
     "output_type": "execute_result"
    }
   ],
   "source": [
    "\n",
    "load_dotenv(override=True)\n"
   ]
  },
  {
   "cell_type": "code",
   "execution_count": 3,
   "metadata": {},
   "outputs": [],
   "source": [
    "attractions_planner_agent_instructions = \"\"\"\n",
    "You are a attractions planner. You are given a destination and need to plan all must-do things in that city.\n",
    "You should give only the list of attractions and not suggestions on Restaurants, Hotels, etc.\n",
    "Attractions should be something like historical places, museums, parks, etc.. This should not include any activities like hiking,skydiving, kayaking, sunset sails, snorkeling, etc.\n",
    "\"\"\"\n",
    "\n",
    "activity_planner_agent_instructions = \"\"\"\n",
    "You are a activity planner. You are given a destination \n",
    "You need to find all local best activities in that city with their popularity.\n",
    "Activities should be something to experience like skydiving, kayaking, sunset sails, snorkeling, etc.\n",
    "\"\"\"\n",
    "\n",
    "restaurant_planner_agent_instructions = \"\"\"\n",
    "You are a restaurant planner. You are given a destination and number of days to spend.\n",
    "You need to find all local best restaurants in that city with their ratings and reviews. \n",
    "You need to plan for 3 meals a day for the number of days you are staying.\n",
    "\"\"\"\n",
    "\n",
    "attractions_planner_agent = Agent(\n",
    "    name=\"Attractions Planner\",\n",
    "    instructions = attractions_planner_agent_instructions,\n",
    ")\n",
    "\n",
    "activity_planner_agent = Agent(\n",
    "    name=\"Activity Planner\",\n",
    "    instructions = activity_planner_agent_instructions,\n",
    ")\n",
    "\n",
    "restaurant_planner_agent = Agent(\n",
    "    name=\"Restaurant Planner\",\n",
    "    instructions = restaurant_planner_agent_instructions,\n",
    ")\n",
    "\n"
   ]
  },
  {
   "cell_type": "code",
   "execution_count": 4,
   "metadata": {},
   "outputs": [],
   "source": [
    "itenary_planner_agent_instructions = \"\"\"\n",
    "    You are given a list of attractions, activities and restaurants. \n",
    "    You need to pick best attractions, activities and restaurants out of the list to plan a trip to the destination.\n",
    "    You give a day by day plan of the trip with timings for various attractions and activities.\n",
    "    You'll also plan for appropriate schedules for 3 meals a day in nearby restaurants to the current schedule.\n",
    "\"\"\"\n",
    "\n",
    "itenary_planner_agent = Agent(\n",
    "    name=\"Itenary Planner\",\n",
    "    instructions=itenary_planner_agent_instructions,\n",
    ")"
   ]
  },
  {
   "cell_type": "code",
   "execution_count": 11,
   "metadata": {},
   "outputs": [
    {
     "name": "stdout",
     "output_type": "stream",
     "text": [
      "Best Plan:\n",
      "Here's a 5-day itinerary for an exciting trip to San Diego, combining attractions, activities, and top-rated dining experiences. \n",
      "\n",
      "### Day 1: Beach and Ocean Adventures\n",
      "- **Morning: La Jolla Cove Snorkeling**\n",
      "  - Experience vibrant marine life and pristine waters.\n",
      "- **Breakfast:** *The Cottage La Jolla*\n",
      "  - Known for French toast and cozy ambiance.\n",
      "\n",
      "- **Late Morning: Kayaking Tours in La Jolla Sea Caves**\n",
      "  - Explore unique sea caves and cliffs.\n",
      "\n",
      "- **Lunch:** *Hodad's Downtown*\n",
      "  - Famous for enormous, delicious burgers.\n",
      "\n",
      "- **Afternoon: Surfing at Pacific Beach**\n",
      "  - Ride the consistent waves with local surf lessons.\n",
      "\n",
      "- **Dinner:** *Born & Raised*\n",
      "  - Enjoy a high-end steakhouse experience with elegant decor.\n",
      "\n",
      "### Day 2: Outdoor Exploration\n",
      "- **Morning: Hiking at Torrey Pines State Reserve**\n",
      "  - Stunning ocean views and diverse wildlife.\n",
      "\n",
      "- **Breakfast:** *Great Maple*\n",
      "  - Innovative dishes with fantastic maple bacon doughnuts.\n",
      "\n",
      "- **Late Morning: Biking around Mission Bay**\n",
      "  - Scenic routes; spot local birds.\n",
      "\n",
      "- **Lunch:** *Point Loma Seafoods*\n",
      "  - Fresh seafood with marina views; try the fish tacos.\n",
      "\n",
      "- **Afternoon: Sunset Sail in San Diego Bay**\n",
      "  - Experience beautiful skyline and sunset views.\n",
      "\n",
      "- **Dinner:** *Juniper & Ivy*\n",
      "  - Innovative cuisine with a changing menu.\n",
      "\n",
      "### Day 3: Adventure and Thrills\n",
      "- **Morning: Skydiving in Oceanside**\n",
      "  - Breathtaking coastal views from the sky.\n",
      "\n",
      "- **Breakfast:** *Richard Walker's Pancake House*\n",
      "  - Immense and satisfying breakfast delights.\n",
      "\n",
      "- **Late Morning: Paragliding at Torrey Pines Gliderport**\n",
      "  - Fly over stunning cliffs and ocean vistas.\n",
      "\n",
      "- **Lunch:** *The Crack Shack*\n",
      "  - Famous for fried chicken and eggs in a fun setting.\n",
      "\n",
      "- **Afternoon: Jet Skiing in Mission Bay**\n",
      "  - Enjoy the thrill on the water.\n",
      "\n",
      "- **Dinner:** *Kettner Exchange*\n",
      "  - Creative dishes and excellent cocktails in a hip setting.\n",
      "\n",
      "### Day 4: Cultural and Unique Experiences\n",
      "- **Morning: Balboa Park Exploration**\n",
      "  - Museums, gardens, and the iconic San Diego Zoo.\n",
      "\n",
      "- **Breakfast:** *Breakfast Republic*\n",
      "  - Unique breakfast items in a vibrant atmosphere.\n",
      "\n",
      "- **Late Morning: San Diego Museum of Art**\n",
      "  - Explore diverse art collections.\n",
      "\n",
      "- **Lunch:** *Carnitas' Snack Shack*\n",
      "  - Pork-centric menu with a lively vibe.\n",
      "\n",
      "- **Afternoon: Old Town San Diego Ghost Tour**\n",
      "  - A spooky night exploring historical sites.\n",
      "\n",
      "- **Dinner:** *The Marine Room*\n",
      "  - Upscale dining with ocean views.\n",
      "\n",
      "### Day 5: Relaxation and Scenic Views\n",
      "- **Morning: Whale Watching Tour**\n",
      "  - Seasonal tours with sightings of gray whales and dolphins.\n",
      "\n",
      "- **Breakfast:** *Fig Tree Cafe*\n",
      "  - Delightful breakfast options and a welcoming patio.\n",
      "\n",
      "- **Late Morning: Coronado Beach Day**\n",
      "  - Iconic beaches with views of Hotel del Coronado.\n",
      "\n",
      "- **Lunch:** *Lucha Libre Taco Shop*\n",
      "  - Unique and flavorful tacos in a wrestling-themed spot.\n",
      "\n",
      "- **Afternoon: Sunset Cliffs Natural Park**\n",
      "  - Perfect for a romantic sunset walk with dramatic coastal views.\n",
      "\n",
      "- **Dinner:** *Addison*\n",
      "  - Exceptional fine dining at San Diego's only Michelin-starred restaurant.\n",
      "\n",
      "### Tips\n",
      "- **Reservations:** Some dining places might require reservations.\n",
      "- **Transportation:** Consider renting a car for flexibility.\n",
      "- **Explore:** Each day's activities are grouped for proximity to save travel time. Enjoy your San Diego adventure!\n"
     ]
    }
   ],
   "source": [
    "\n",
    "message = \"SanDiego, 5 days\"\n",
    "\n",
    "with trace(\"Planning Itenary\"):\n",
    "    results = await asyncio.gather(\n",
    "        Runner.run(attractions_planner_agent, message),\n",
    "        Runner.run(activity_planner_agent, message),\n",
    "        Runner.run(restaurant_planner_agent, message),\n",
    "    )\n",
    "    outputs = [result.final_output for result in results]\n",
    "\n",
    "    todos = \"Attractions, activities and restaurants:\\n\\n\".join(outputs)\n",
    "\n",
    "    plan = await Runner.run(itenary_planner_agent, todos)\n",
    "\n",
    "    print(f\"Best Plan:\\n{plan.final_output}\")\n",
    "\n"
   ]
  },
  {
   "cell_type": "code",
   "execution_count": 5,
   "metadata": {},
   "outputs": [],
   "source": [
    "calender_generator_agent_instructions = \"\"\"\n",
    "You are a calender generator. You are given a ordered list of attractions, activities and restaurants with appropriate days and timings.\n",
    "You need to generate a single ics file with all the events and their details.\n",
    "You need to include all the details like name, description, start and end time, location, etc.\n",
    "This ics file should be in a format that can be imported into any calendar app.\n",
    "\"\"\"\n",
    "\n",
    "calender_generator_agent = Agent(\n",
    "    name=\"Calender Generator\",\n",
    "    instructions = calender_generator_agent_instructions,\n",
    ")"
   ]
  },
  {
   "cell_type": "code",
   "execution_count": null,
   "metadata": {},
   "outputs": [],
   "source": []
  },
  {
   "cell_type": "code",
   "execution_count": 6,
   "metadata": {},
   "outputs": [],
   "source": [
    "@function_tool\n",
    "def send_email(body: str):\n",
    "    \"\"\" Send out an email with the given body to all sales prospects \"\"\"\n",
    "    sg = sendgrid.SendGridAPIClient(api_key=os.environ.get('SENDGRID_API_KEY'))\n",
    "    from_email = Email(\"harishjmhss@gmail.com\")  # Change to your verified sender\n",
    "    to_email = To(\"harishneyveli96@gmail.com\")  # Change to your recipient\n",
    "    content = Content(\"text/plain\", body)\n",
    "    mail = Mail(from_email, to_email, \"Sales email\", content).get()\n",
    "    sg.client.mail.send.post(request_body=mail)\n",
    "    return {\"status\": \"success\"}\n",
    "\n",
    "# send_email(\"This is a test email\")"
   ]
  },
  {
   "cell_type": "code",
   "execution_count": 7,
   "metadata": {},
   "outputs": [],
   "source": [
    "activity_planner_tool = activity_planner_agent.as_tool(tool_name=\"activity_planner_tool\", tool_description=\"Plan only activities for the given destination and number of days\")\n",
    "attractions_planner_tool = attractions_planner_agent.as_tool(tool_name=\"attractions_planner_tool\", tool_description=\"Plan only attractions for the given destination and number of days\")\n",
    "restaurant_planner_tool = restaurant_planner_agent.as_tool(tool_name=\"restaurant_planner_tool\", tool_description=\"Plan only restaurants for the given destination and number of days\")\n",
    "itenary_planner_tool = itenary_planner_agent.as_tool(tool_name=\"itenary_planner_tool\", tool_description=\"Plan a trip to the given destination and number of days by calling activity planner, attractions planner and restaurant planner tools\")\n",
    "calender_generator_tool = calender_generator_agent.as_tool(tool_name=\"calender_generator_tool\", tool_description=\"Generate a calender with all the events and their details\")\n"
   ]
  },
  {
   "cell_type": "code",
   "execution_count": 8,
   "metadata": {},
   "outputs": [],
   "source": [
    "tools = [\n",
    "    activity_planner_tool,\n",
    "    attractions_planner_tool,\n",
    "    restaurant_planner_tool,\n",
    "    calender_generator_tool,\n",
    "    send_email\n",
    "]\n"
   ]
  },
  {
   "cell_type": "code",
   "execution_count": 9,
   "metadata": {},
   "outputs": [],
   "source": [
    "travel_planner_agent_instructions = \"\"\"\n",
    "    You are a travel planner. You are given a particular destination and number of days to spend. \n",
    "    You need to use the tools given to you to plan the trip.\n",
    "    You need to use the tools in a way that is most efficient and effective.\n",
    "    Send email with the itenary to the user including the calender appointment as a downloadable ics file.\n",
    "\"\"\"\n",
    "\n",
    "travel_planner_agent = Agent(\n",
    "    name=\"travel_planner_agent\",\n",
    "    instructions = travel_planner_agent_instructions,\n",
    "    tools = tools,\n",
    "    model = \"gpt-4o-mini\"\n",
    ")\n",
    "\n"
   ]
  },
  {
   "cell_type": "code",
   "execution_count": 10,
   "metadata": {},
   "outputs": [
    {
     "data": {
      "text/plain": [
       "[FunctionTool(name='activity_planner_tool', description='Plan only activities for the given destination and number of days', params_json_schema={'properties': {'input': {'title': 'Input', 'type': 'string'}}, 'required': ['input'], 'title': 'activity_planner_tool_args', 'type': 'object', 'additionalProperties': False}, on_invoke_tool=<function function_tool.<locals>._create_function_tool.<locals>._on_invoke_tool at 0x7fab09491c60>, strict_json_schema=True, is_enabled=True),\n",
       " FunctionTool(name='attractions_planner_tool', description='Plan only attractions for the given destination and number of days', params_json_schema={'properties': {'input': {'title': 'Input', 'type': 'string'}}, 'required': ['input'], 'title': 'attractions_planner_tool_args', 'type': 'object', 'additionalProperties': False}, on_invoke_tool=<function function_tool.<locals>._create_function_tool.<locals>._on_invoke_tool at 0x7fab09492020>, strict_json_schema=True, is_enabled=True),\n",
       " FunctionTool(name='restaurant_planner_tool', description='Plan only restaurants for the given destination and number of days', params_json_schema={'properties': {'input': {'title': 'Input', 'type': 'string'}}, 'required': ['input'], 'title': 'restaurant_planner_tool_args', 'type': 'object', 'additionalProperties': False}, on_invoke_tool=<function function_tool.<locals>._create_function_tool.<locals>._on_invoke_tool at 0x7fab0bb8e8e0>, strict_json_schema=True, is_enabled=True),\n",
       " FunctionTool(name='calender_generator_tool', description='Generate a calender with all the events and their details', params_json_schema={'properties': {'input': {'title': 'Input', 'type': 'string'}}, 'required': ['input'], 'title': 'calender_generator_tool_args', 'type': 'object', 'additionalProperties': False}, on_invoke_tool=<function function_tool.<locals>._create_function_tool.<locals>._on_invoke_tool at 0x7fab09491bc0>, strict_json_schema=True, is_enabled=True),\n",
       " FunctionTool(name='send_email', description='Send out an email with the given body to all sales prospects', params_json_schema={'properties': {'body': {'title': 'Body', 'type': 'string'}}, 'required': ['body'], 'title': 'send_email_args', 'type': 'object', 'additionalProperties': False}, on_invoke_tool=<function function_tool.<locals>._create_function_tool.<locals>._on_invoke_tool at 0x7fab09491440>, strict_json_schema=True, is_enabled=True)]"
      ]
     },
     "execution_count": 10,
     "metadata": {},
     "output_type": "execute_result"
    }
   ],
   "source": [
    "tools"
   ]
  },
  {
   "cell_type": "code",
   "execution_count": 11,
   "metadata": {},
   "outputs": [],
   "source": [
    "message = \"SanDiego, 5 days\"\n",
    "\n",
    "with trace(\"Trip Planner\"):\n",
    "    result = await Runner.run(travel_planner_agent, message)"
   ]
  },
  {
   "cell_type": "code",
   "execution_count": 19,
   "metadata": {},
   "outputs": [
    {
     "name": "stdout",
     "output_type": "stream",
     "text": [
      "[RunResult(input='SanDiego, 5 days', new_items=[MessageOutputItem(agent=Agent(name='Attractions Planner', instructions='\\nYou are a attractions planner. You are given a destination and need to plan all must-do things in that city.\\nYou should give only the list of attractions and not suggestions on Restaurants, Hotels, etc.\\nAttractions should be something like historical places, museums, parks, etc.. This should not include any activities like hiking,skydiving, kayaking, sunset sails, snorkeling, etc.\\n', prompt=None, handoff_description=None, handoffs=[], model=None, model_settings=ModelSettings(temperature=None, top_p=None, frequency_penalty=None, presence_penalty=None, tool_choice=None, parallel_tool_calls=None, truncation=None, max_tokens=None, reasoning=None, metadata=None, store=None, include_usage=None, extra_query=None, extra_body=None, extra_headers=None, extra_args=None), tools=[], mcp_servers=[], mcp_config={}, input_guardrails=[], output_guardrails=[], output_type=None, hooks=None, tool_use_behavior='run_llm_again', reset_tool_choice=True), raw_item=ResponseOutputMessage(id='msg_6865ed8590d48199bfa1572d6b5cce240592d43061cfd6b6', content=[ResponseOutputText(annotations=[], text='1. Balboa Park\\n2. San Diego Zoo\\n3. USS Midway Museum\\n4. Old Town San Diego State Historic Park\\n5. La Jolla Cove\\n6. Cabrillo National Monument\\n7. SeaWorld San Diego\\n8. San Diego Museum of Art\\n9. Gaslamp Quarter\\n10. San Diego Natural History Museum\\n11. Coronado Beach\\n12. Birch Aquarium at Scripps\\n13. Point Loma Lighthouse\\n14. Museum of Contemporary Art San Diego\\n15. Seaport Village', type='output_text', logprobs=[])], role='assistant', status='completed', type='message'), type='message_output_item')], raw_responses=[ModelResponse(output=[ResponseOutputMessage(id='msg_6865ed8590d48199bfa1572d6b5cce240592d43061cfd6b6', content=[ResponseOutputText(annotations=[], text='1. Balboa Park\\n2. San Diego Zoo\\n3. USS Midway Museum\\n4. Old Town San Diego State Historic Park\\n5. La Jolla Cove\\n6. Cabrillo National Monument\\n7. SeaWorld San Diego\\n8. San Diego Museum of Art\\n9. Gaslamp Quarter\\n10. San Diego Natural History Museum\\n11. Coronado Beach\\n12. Birch Aquarium at Scripps\\n13. Point Loma Lighthouse\\n14. Museum of Contemporary Art San Diego\\n15. Seaport Village', type='output_text', logprobs=[])], role='assistant', status='completed', type='message')], usage=Usage(requests=1, input_tokens=97, input_tokens_details=InputTokensDetails(cached_tokens=0), output_tokens=109, output_tokens_details=OutputTokensDetails(reasoning_tokens=0), total_tokens=206), response_id='resp_6865ed85009481998fdf4fea61f875400592d43061cfd6b6')], final_output='1. Balboa Park\\n2. San Diego Zoo\\n3. USS Midway Museum\\n4. Old Town San Diego State Historic Park\\n5. La Jolla Cove\\n6. Cabrillo National Monument\\n7. SeaWorld San Diego\\n8. San Diego Museum of Art\\n9. Gaslamp Quarter\\n10. San Diego Natural History Museum\\n11. Coronado Beach\\n12. Birch Aquarium at Scripps\\n13. Point Loma Lighthouse\\n14. Museum of Contemporary Art San Diego\\n15. Seaport Village', input_guardrail_results=[], output_guardrail_results=[], context_wrapper=RunContextWrapper(context=None, usage=Usage(requests=1, input_tokens=97, input_tokens_details=InputTokensDetails(cached_tokens=0), output_tokens=109, output_tokens_details=OutputTokensDetails(reasoning_tokens=0), total_tokens=206)), _last_agent=Agent(name='Attractions Planner', instructions='\\nYou are a attractions planner. You are given a destination and need to plan all must-do things in that city.\\nYou should give only the list of attractions and not suggestions on Restaurants, Hotels, etc.\\nAttractions should be something like historical places, museums, parks, etc.. This should not include any activities like hiking,skydiving, kayaking, sunset sails, snorkeling, etc.\\n', prompt=None, handoff_description=None, handoffs=[], model=None, model_settings=ModelSettings(temperature=None, top_p=None, frequency_penalty=None, presence_penalty=None, tool_choice=None, parallel_tool_calls=None, truncation=None, max_tokens=None, reasoning=None, metadata=None, store=None, include_usage=None, extra_query=None, extra_body=None, extra_headers=None, extra_args=None), tools=[], mcp_servers=[], mcp_config={}, input_guardrails=[], output_guardrails=[], output_type=None, hooks=None, tool_use_behavior='run_llm_again', reset_tool_choice=True)), RunResult(input='SanDiego, 5 days', new_items=[MessageOutputItem(agent=Agent(name='Activity Planner', instructions='\\nYou are a activity planner. You are given a destination \\nYou need to find all local best activities in that city with their popularity.\\nActivities should be something to experience like skydiving, kayaking, sunset sails, snorkeling, etc.\\n', prompt=None, handoff_description=None, handoffs=[], model=None, model_settings=ModelSettings(temperature=None, top_p=None, frequency_penalty=None, presence_penalty=None, tool_choice=None, parallel_tool_calls=None, truncation=None, max_tokens=None, reasoning=None, metadata=None, store=None, include_usage=None, extra_query=None, extra_body=None, extra_headers=None, extra_args=None), tools=[], mcp_servers=[], mcp_config={}, input_guardrails=[], output_guardrails=[], output_type=None, hooks=None, tool_use_behavior='run_llm_again', reset_tool_choice=True), raw_item=ResponseOutputMessage(id='msg_6865ed85a26c81998eb108515ed366f404708e24c09f97db', content=[ResponseOutputText(annotations=[], text=\"Here's a list of popular activities in San Diego, perfect for a 5-day itinerary:\\n\\n### Day 1: Beach and Ocean Adventures\\n1. **La Jolla Cove Snorkeling**\\n   - Popular for its vibrant marine life and clear waters.\\n\\n2. **Surfing at Pacific Beach**\\n   - Known for consistent waves and local surf shops offering lessons.\\n\\n3. **Kayaking Tours in La Jolla Sea Caves**\\n   - Explore unique sea caves and cliffs.\\n\\n### Day 2: Outdoor Exploration\\n1. **Hiking at Torrey Pines State Reserve**\\n   - Offers stunning ocean views and diverse wildlife.\\n\\n2. **Biking around Mission Bay**\\n   - Scenic routes with opportunities to spot local birds.\\n\\n3. **Sunset Sail in San Diego Bay**\\n   - Experience the beautiful skyline and sunset views.\\n\\n### Day 3: Adventure and Thrills\\n1. **Skydiving in Oceanside**\\n   - Experience breathtaking coastal views from the sky.\\n\\n2. **Paragliding at the Torrey Pines Gliderport**\\n   - Fly over stunning cliffs and ocean vistas.\\n\\n3. **Jet Skiing in Mission Bay**\\n   - Enjoy the thrill of speed on the water.\\n\\n### Day 4: Cultural and Unique Experiences\\n1. **Balboa Park Exploration**\\n   - Discover museums, gardens, and the iconic San Diego Zoo.\\n\\n2. **Old Town San Diego Ghost Tour**\\n   - Experience a spooky night exploring historical sites.\\n\\n3. **Authentic Mexican Cuisine Tasting in Old Town**\\n   - Sample traditional dishes in this culturally rich area.\\n\\n### Day 5: Relaxation and Scenic Views\\n1. **Whale Watching Tour**\\n   - Seasonal tours offer sightings of gray whales and dolphins.\\n\\n2. **Coronado Beach Day**\\n   - Enjoy the iconic sandy beaches with views of the Hotel del Coronado.\\n\\n3. **Sunset Cliffs Natural Park**\\n   - Perfect for a romantic sunset walk with dramatic coastal views.\\n\\nThese activities offer a blend of adventure, relaxation, and cultural experiences, optimizing your San Diego visit.\", type='output_text', logprobs=[])], role='assistant', status='completed', type='message'), type='message_output_item')], raw_responses=[ModelResponse(output=[ResponseOutputMessage(id='msg_6865ed85a26c81998eb108515ed366f404708e24c09f97db', content=[ResponseOutputText(annotations=[], text=\"Here's a list of popular activities in San Diego, perfect for a 5-day itinerary:\\n\\n### Day 1: Beach and Ocean Adventures\\n1. **La Jolla Cove Snorkeling**\\n   - Popular for its vibrant marine life and clear waters.\\n\\n2. **Surfing at Pacific Beach**\\n   - Known for consistent waves and local surf shops offering lessons.\\n\\n3. **Kayaking Tours in La Jolla Sea Caves**\\n   - Explore unique sea caves and cliffs.\\n\\n### Day 2: Outdoor Exploration\\n1. **Hiking at Torrey Pines State Reserve**\\n   - Offers stunning ocean views and diverse wildlife.\\n\\n2. **Biking around Mission Bay**\\n   - Scenic routes with opportunities to spot local birds.\\n\\n3. **Sunset Sail in San Diego Bay**\\n   - Experience the beautiful skyline and sunset views.\\n\\n### Day 3: Adventure and Thrills\\n1. **Skydiving in Oceanside**\\n   - Experience breathtaking coastal views from the sky.\\n\\n2. **Paragliding at the Torrey Pines Gliderport**\\n   - Fly over stunning cliffs and ocean vistas.\\n\\n3. **Jet Skiing in Mission Bay**\\n   - Enjoy the thrill of speed on the water.\\n\\n### Day 4: Cultural and Unique Experiences\\n1. **Balboa Park Exploration**\\n   - Discover museums, gardens, and the iconic San Diego Zoo.\\n\\n2. **Old Town San Diego Ghost Tour**\\n   - Experience a spooky night exploring historical sites.\\n\\n3. **Authentic Mexican Cuisine Tasting in Old Town**\\n   - Sample traditional dishes in this culturally rich area.\\n\\n### Day 5: Relaxation and Scenic Views\\n1. **Whale Watching Tour**\\n   - Seasonal tours offer sightings of gray whales and dolphins.\\n\\n2. **Coronado Beach Day**\\n   - Enjoy the iconic sandy beaches with views of the Hotel del Coronado.\\n\\n3. **Sunset Cliffs Natural Park**\\n   - Perfect for a romantic sunset walk with dramatic coastal views.\\n\\nThese activities offer a blend of adventure, relaxation, and cultural experiences, optimizing your San Diego visit.\", type='output_text', logprobs=[])], role='assistant', status='completed', type='message')], usage=Usage(requests=1, input_tokens=66, input_tokens_details=InputTokensDetails(cached_tokens=0), output_tokens=418, output_tokens_details=OutputTokensDetails(reasoning_tokens=0), total_tokens=484), response_id='resp_6865ed851acc81998116b9fe3a6b3e3b04708e24c09f97db')], final_output=\"Here's a list of popular activities in San Diego, perfect for a 5-day itinerary:\\n\\n### Day 1: Beach and Ocean Adventures\\n1. **La Jolla Cove Snorkeling**\\n   - Popular for its vibrant marine life and clear waters.\\n\\n2. **Surfing at Pacific Beach**\\n   - Known for consistent waves and local surf shops offering lessons.\\n\\n3. **Kayaking Tours in La Jolla Sea Caves**\\n   - Explore unique sea caves and cliffs.\\n\\n### Day 2: Outdoor Exploration\\n1. **Hiking at Torrey Pines State Reserve**\\n   - Offers stunning ocean views and diverse wildlife.\\n\\n2. **Biking around Mission Bay**\\n   - Scenic routes with opportunities to spot local birds.\\n\\n3. **Sunset Sail in San Diego Bay**\\n   - Experience the beautiful skyline and sunset views.\\n\\n### Day 3: Adventure and Thrills\\n1. **Skydiving in Oceanside**\\n   - Experience breathtaking coastal views from the sky.\\n\\n2. **Paragliding at the Torrey Pines Gliderport**\\n   - Fly over stunning cliffs and ocean vistas.\\n\\n3. **Jet Skiing in Mission Bay**\\n   - Enjoy the thrill of speed on the water.\\n\\n### Day 4: Cultural and Unique Experiences\\n1. **Balboa Park Exploration**\\n   - Discover museums, gardens, and the iconic San Diego Zoo.\\n\\n2. **Old Town San Diego Ghost Tour**\\n   - Experience a spooky night exploring historical sites.\\n\\n3. **Authentic Mexican Cuisine Tasting in Old Town**\\n   - Sample traditional dishes in this culturally rich area.\\n\\n### Day 5: Relaxation and Scenic Views\\n1. **Whale Watching Tour**\\n   - Seasonal tours offer sightings of gray whales and dolphins.\\n\\n2. **Coronado Beach Day**\\n   - Enjoy the iconic sandy beaches with views of the Hotel del Coronado.\\n\\n3. **Sunset Cliffs Natural Park**\\n   - Perfect for a romantic sunset walk with dramatic coastal views.\\n\\nThese activities offer a blend of adventure, relaxation, and cultural experiences, optimizing your San Diego visit.\", input_guardrail_results=[], output_guardrail_results=[], context_wrapper=RunContextWrapper(context=None, usage=Usage(requests=1, input_tokens=66, input_tokens_details=InputTokensDetails(cached_tokens=0), output_tokens=418, output_tokens_details=OutputTokensDetails(reasoning_tokens=0), total_tokens=484)), _last_agent=Agent(name='Activity Planner', instructions='\\nYou are a activity planner. You are given a destination \\nYou need to find all local best activities in that city with their popularity.\\nActivities should be something to experience like skydiving, kayaking, sunset sails, snorkeling, etc.\\n', prompt=None, handoff_description=None, handoffs=[], model=None, model_settings=ModelSettings(temperature=None, top_p=None, frequency_penalty=None, presence_penalty=None, tool_choice=None, parallel_tool_calls=None, truncation=None, max_tokens=None, reasoning=None, metadata=None, store=None, include_usage=None, extra_query=None, extra_body=None, extra_headers=None, extra_args=None), tools=[], mcp_servers=[], mcp_config={}, input_guardrails=[], output_guardrails=[], output_type=None, hooks=None, tool_use_behavior='run_llm_again', reset_tool_choice=True)), RunResult(input='SanDiego, 5 days', new_items=[MessageOutputItem(agent=Agent(name='Restaurant Planner', instructions='\\nYou are a restaurant planner. You are given a destination and number of days to spend.\\nYou need to find all local best restaurants in that city with their ratings and reviews. \\nYou need to plan for 3 meals a day for the number of days you are staying.\\n', prompt=None, handoff_description=None, handoffs=[], model=None, model_settings=ModelSettings(temperature=None, top_p=None, frequency_penalty=None, presence_penalty=None, tool_choice=None, parallel_tool_calls=None, truncation=None, max_tokens=None, reasoning=None, metadata=None, store=None, include_usage=None, extra_query=None, extra_body=None, extra_headers=None, extra_args=None), tools=[], mcp_servers=[], mcp_config={}, input_guardrails=[], output_guardrails=[], output_type=None, hooks=None, tool_use_behavior='run_llm_again', reset_tool_choice=True), raw_item=ResponseOutputMessage(id='msg_6865ed85b2d8819989e2f751c0f59e9c0a0eaf71405ae150', content=[ResponseOutputText(annotations=[], text=\"Here’s a plan for dining in San Diego over 5 days, with some of the city's top-rated restaurants:\\n\\n### Day 1\\n- **Breakfast:** *The Cottage La Jolla*  \\n  - **Rating:** 4.5/5  \\n  - **Review:** Known for their delicious French toast and cozy atmosphere.\\n- **Lunch:** *Hodad's Downtown*  \\n  - **Rating:** 4.6/5  \\n  - **Review:** Famous for their enormous and tasty burgers, this spot is a must-visit.\\n- **Dinner:** *Born & Raised*  \\n  - **Rating:** 4.7/5  \\n  - **Review:** A high-end steakhouse with a fantastic selection of steaks and elegant decor.\\n\\n### Day 2\\n- **Breakfast:** *Great Maple*  \\n  - **Rating:** 4.5/5  \\n  - **Review:** Offers innovative dishes and fantastic maple bacon doughnuts.\\n- **Lunch:** *Point Loma Seafoods*  \\n  - **Rating:** 4.6/5  \\n  - **Review:** Fresh seafood with stunning marina views; their fish tacos are highly recommended.\\n- **Dinner:** *Juniper & Ivy*  \\n  - **Rating:** 4.8/5  \\n  - **Review:** Innovative cuisine with a constantly changing menu, combining local ingredients.\\n\\n### Day 3\\n- **Breakfast:** *Richard Walker's Pancake House*  \\n  - **Rating:** 4.4/5  \\n  - **Review:** Known for their immense and satisfying pancakes and breakfast delights.\\n- **Lunch:** *The Crack Shack*  \\n  - **Rating:** 4.7/5  \\n  - **Review:** Famous for fried chicken and egg-themed creations in a fun atmosphere.\\n- **Dinner:** *Kettner Exchange*  \\n  - **Rating:** 4.5/5  \\n  - **Review:** Creative dishes in a hip rooftop space with excellent cocktails.\\n\\n### Day 4\\n- **Breakfast:** *Breakfast Republic*  \\n  - **Rating:** 4.5/5  \\n  - **Review:** A favorite for unique breakfast items and a fun, vibrant atmosphere.\\n- **Lunch:** *Carnitas' Snack Shack*  \\n  - **Rating:** 4.6/5  \\n  - **Review:** Pork-centric menu with a casual and lively vibe.\\n- **Dinner:** *The Marine Room*  \\n  - **Rating:** 4.7/5  \\n  - **Review:** Upscale dining with ocean views, offering exquisite seafood dishes.\\n\\n### Day 5\\n- **Breakfast:** *Fig Tree Cafe*  \\n  - **Rating:** 4.5/5  \\n  - **Review:** Delightful breakfast options with a welcoming patio setting.\\n- **Lunch:** *Lucha Libre Taco Shop*  \\n  - **Rating:** 4.6/5  \\n  - **Review:** Popular for their unique and flavorful tacos in a Mexican wrestling-themed spot.\\n- **Dinner:** *Addison*  \\n  - **Rating:** 4.9/5  \\n  - **Review:** San Diego's only Michelin-starred restaurant, providing an exceptional fine dining experience.\\n\\n### Tips\\n- **Reservations:** Some restaurants require or are recommended to have reservations.\\n- **Explore:** Try to explore different neighborhoods to experience a variety of local flavors.\\n\\nEnjoy your culinary journey in San Diego!\", type='output_text', logprobs=[])], role='assistant', status='completed', type='message'), type='message_output_item')], raw_responses=[ModelResponse(output=[ResponseOutputMessage(id='msg_6865ed85b2d8819989e2f751c0f59e9c0a0eaf71405ae150', content=[ResponseOutputText(annotations=[], text=\"Here’s a plan for dining in San Diego over 5 days, with some of the city's top-rated restaurants:\\n\\n### Day 1\\n- **Breakfast:** *The Cottage La Jolla*  \\n  - **Rating:** 4.5/5  \\n  - **Review:** Known for their delicious French toast and cozy atmosphere.\\n- **Lunch:** *Hodad's Downtown*  \\n  - **Rating:** 4.6/5  \\n  - **Review:** Famous for their enormous and tasty burgers, this spot is a must-visit.\\n- **Dinner:** *Born & Raised*  \\n  - **Rating:** 4.7/5  \\n  - **Review:** A high-end steakhouse with a fantastic selection of steaks and elegant decor.\\n\\n### Day 2\\n- **Breakfast:** *Great Maple*  \\n  - **Rating:** 4.5/5  \\n  - **Review:** Offers innovative dishes and fantastic maple bacon doughnuts.\\n- **Lunch:** *Point Loma Seafoods*  \\n  - **Rating:** 4.6/5  \\n  - **Review:** Fresh seafood with stunning marina views; their fish tacos are highly recommended.\\n- **Dinner:** *Juniper & Ivy*  \\n  - **Rating:** 4.8/5  \\n  - **Review:** Innovative cuisine with a constantly changing menu, combining local ingredients.\\n\\n### Day 3\\n- **Breakfast:** *Richard Walker's Pancake House*  \\n  - **Rating:** 4.4/5  \\n  - **Review:** Known for their immense and satisfying pancakes and breakfast delights.\\n- **Lunch:** *The Crack Shack*  \\n  - **Rating:** 4.7/5  \\n  - **Review:** Famous for fried chicken and egg-themed creations in a fun atmosphere.\\n- **Dinner:** *Kettner Exchange*  \\n  - **Rating:** 4.5/5  \\n  - **Review:** Creative dishes in a hip rooftop space with excellent cocktails.\\n\\n### Day 4\\n- **Breakfast:** *Breakfast Republic*  \\n  - **Rating:** 4.5/5  \\n  - **Review:** A favorite for unique breakfast items and a fun, vibrant atmosphere.\\n- **Lunch:** *Carnitas' Snack Shack*  \\n  - **Rating:** 4.6/5  \\n  - **Review:** Pork-centric menu with a casual and lively vibe.\\n- **Dinner:** *The Marine Room*  \\n  - **Rating:** 4.7/5  \\n  - **Review:** Upscale dining with ocean views, offering exquisite seafood dishes.\\n\\n### Day 5\\n- **Breakfast:** *Fig Tree Cafe*  \\n  - **Rating:** 4.5/5  \\n  - **Review:** Delightful breakfast options with a welcoming patio setting.\\n- **Lunch:** *Lucha Libre Taco Shop*  \\n  - **Rating:** 4.6/5  \\n  - **Review:** Popular for their unique and flavorful tacos in a Mexican wrestling-themed spot.\\n- **Dinner:** *Addison*  \\n  - **Rating:** 4.9/5  \\n  - **Review:** San Diego's only Michelin-starred restaurant, providing an exceptional fine dining experience.\\n\\n### Tips\\n- **Reservations:** Some restaurants require or are recommended to have reservations.\\n- **Explore:** Try to explore different neighborhoods to experience a variety of local flavors.\\n\\nEnjoy your culinary journey in San Diego!\", type='output_text', logprobs=[])], role='assistant', status='completed', type='message')], usage=Usage(requests=1, input_tokens=74, input_tokens_details=InputTokensDetails(cached_tokens=0), output_tokens=695, output_tokens_details=OutputTokensDetails(reasoning_tokens=0), total_tokens=769), response_id='resp_6865ed8513608199999928b0250a87210a0eaf71405ae150')], final_output=\"Here’s a plan for dining in San Diego over 5 days, with some of the city's top-rated restaurants:\\n\\n### Day 1\\n- **Breakfast:** *The Cottage La Jolla*  \\n  - **Rating:** 4.5/5  \\n  - **Review:** Known for their delicious French toast and cozy atmosphere.\\n- **Lunch:** *Hodad's Downtown*  \\n  - **Rating:** 4.6/5  \\n  - **Review:** Famous for their enormous and tasty burgers, this spot is a must-visit.\\n- **Dinner:** *Born & Raised*  \\n  - **Rating:** 4.7/5  \\n  - **Review:** A high-end steakhouse with a fantastic selection of steaks and elegant decor.\\n\\n### Day 2\\n- **Breakfast:** *Great Maple*  \\n  - **Rating:** 4.5/5  \\n  - **Review:** Offers innovative dishes and fantastic maple bacon doughnuts.\\n- **Lunch:** *Point Loma Seafoods*  \\n  - **Rating:** 4.6/5  \\n  - **Review:** Fresh seafood with stunning marina views; their fish tacos are highly recommended.\\n- **Dinner:** *Juniper & Ivy*  \\n  - **Rating:** 4.8/5  \\n  - **Review:** Innovative cuisine with a constantly changing menu, combining local ingredients.\\n\\n### Day 3\\n- **Breakfast:** *Richard Walker's Pancake House*  \\n  - **Rating:** 4.4/5  \\n  - **Review:** Known for their immense and satisfying pancakes and breakfast delights.\\n- **Lunch:** *The Crack Shack*  \\n  - **Rating:** 4.7/5  \\n  - **Review:** Famous for fried chicken and egg-themed creations in a fun atmosphere.\\n- **Dinner:** *Kettner Exchange*  \\n  - **Rating:** 4.5/5  \\n  - **Review:** Creative dishes in a hip rooftop space with excellent cocktails.\\n\\n### Day 4\\n- **Breakfast:** *Breakfast Republic*  \\n  - **Rating:** 4.5/5  \\n  - **Review:** A favorite for unique breakfast items and a fun, vibrant atmosphere.\\n- **Lunch:** *Carnitas' Snack Shack*  \\n  - **Rating:** 4.6/5  \\n  - **Review:** Pork-centric menu with a casual and lively vibe.\\n- **Dinner:** *The Marine Room*  \\n  - **Rating:** 4.7/5  \\n  - **Review:** Upscale dining with ocean views, offering exquisite seafood dishes.\\n\\n### Day 5\\n- **Breakfast:** *Fig Tree Cafe*  \\n  - **Rating:** 4.5/5  \\n  - **Review:** Delightful breakfast options with a welcoming patio setting.\\n- **Lunch:** *Lucha Libre Taco Shop*  \\n  - **Rating:** 4.6/5  \\n  - **Review:** Popular for their unique and flavorful tacos in a Mexican wrestling-themed spot.\\n- **Dinner:** *Addison*  \\n  - **Rating:** 4.9/5  \\n  - **Review:** San Diego's only Michelin-starred restaurant, providing an exceptional fine dining experience.\\n\\n### Tips\\n- **Reservations:** Some restaurants require or are recommended to have reservations.\\n- **Explore:** Try to explore different neighborhoods to experience a variety of local flavors.\\n\\nEnjoy your culinary journey in San Diego!\", input_guardrail_results=[], output_guardrail_results=[], context_wrapper=RunContextWrapper(context=None, usage=Usage(requests=1, input_tokens=74, input_tokens_details=InputTokensDetails(cached_tokens=0), output_tokens=695, output_tokens_details=OutputTokensDetails(reasoning_tokens=0), total_tokens=769)), _last_agent=Agent(name='Restaurant Planner', instructions='\\nYou are a restaurant planner. You are given a destination and number of days to spend.\\nYou need to find all local best restaurants in that city with their ratings and reviews. \\nYou need to plan for 3 meals a day for the number of days you are staying.\\n', prompt=None, handoff_description=None, handoffs=[], model=None, model_settings=ModelSettings(temperature=None, top_p=None, frequency_penalty=None, presence_penalty=None, tool_choice=None, parallel_tool_calls=None, truncation=None, max_tokens=None, reasoning=None, metadata=None, store=None, include_usage=None, extra_query=None, extra_body=None, extra_headers=None, extra_args=None), tools=[], mcp_servers=[], mcp_config={}, input_guardrails=[], output_guardrails=[], output_type=None, hooks=None, tool_use_behavior='run_llm_again', reset_tool_choice=True))]\n"
     ]
    }
   ],
   "source": [
    "print(results)"
   ]
  },
  {
   "cell_type": "code",
   "execution_count": 12,
   "metadata": {},
   "outputs": [],
   "source": [
    "\n",
    "subject_instructions = \"You can write a subject for a cold sales email. \\\n",
    "You are given a message and you need to write a subject for an email that is likely to get a response.\"\n",
    "\n",
    "html_instructions = \"You can convert a text email body to an HTML email body. \\\n",
    "You are given a text email body which might have some markdown \\\n",
    "and you need to convert it to an HTML email body with simple, clear, compelling layout and design.\"\n",
    "\n",
    "subject_writer = Agent(name=\"Email subject writer\", instructions=subject_instructions, model=\"gpt-4o-mini\")\n",
    "subject_tool = subject_writer.as_tool(tool_name=\"subject_writer\", tool_description=\"Write a subject for a cold sales email\")\n",
    "\n",
    "html_converter = Agent(name=\"HTML email body converter\", instructions=html_instructions, model=\"gpt-4o-mini\")\n",
    "html_tool = html_converter.as_tool(tool_name=\"html_converter\",tool_description=\"Convert a text email body to an HTML email body\")\n"
   ]
  },
  {
   "cell_type": "code",
   "execution_count": 13,
   "metadata": {},
   "outputs": [],
   "source": [
    "@function_tool\n",
    "def send_html_email(subject: str, html_body: str) -> Dict[str, str]:\n",
    "    \"\"\" Send out an email with the given subject and HTML body to all sales prospects \"\"\"\n",
    "    sg = sendgrid.SendGridAPIClient(api_key=os.environ.get('SENDGRID_API_KEY'))\n",
    "    from_email = Email(\"harishjmhss@gmail.com\")  # Change to your verified sender\n",
    "    to_email = To(\"harishneyveli96@gmail.com\")  # Change to your recipient\n",
    "    content = Content(\"text/html\", html_body)\n",
    "    mail = Mail(from_email, to_email, subject, content).get()\n",
    "    sg.client.mail.send.post(request_body=mail)\n",
    "    return {\"status\": \"success\"}"
   ]
  },
  {
   "cell_type": "code",
   "execution_count": 42,
   "metadata": {},
   "outputs": [
    {
     "data": {
      "text/plain": [
       "[FunctionTool(name='activity_planner_tool', description='Plan only activities for the given destination and number of days', params_json_schema={'properties': {'input': {'title': 'Input', 'type': 'string'}}, 'required': ['input'], 'title': 'activity_planner_tool_args', 'type': 'object', 'additionalProperties': False}, on_invoke_tool=<function function_tool.<locals>._create_function_tool.<locals>._on_invoke_tool at 0x7fab09491c60>, strict_json_schema=True, is_enabled=True),\n",
       " FunctionTool(name='attractions_planner_tool', description='Plan only attractions for the given destination and number of days', params_json_schema={'properties': {'input': {'title': 'Input', 'type': 'string'}}, 'required': ['input'], 'title': 'attractions_planner_tool_args', 'type': 'object', 'additionalProperties': False}, on_invoke_tool=<function function_tool.<locals>._create_function_tool.<locals>._on_invoke_tool at 0x7fab09492020>, strict_json_schema=True, is_enabled=True),\n",
       " FunctionTool(name='restaurant_planner_tool', description='Plan only restaurants for the given destination and number of days', params_json_schema={'properties': {'input': {'title': 'Input', 'type': 'string'}}, 'required': ['input'], 'title': 'restaurant_planner_tool_args', 'type': 'object', 'additionalProperties': False}, on_invoke_tool=<function function_tool.<locals>._create_function_tool.<locals>._on_invoke_tool at 0x7fab0bb8e8e0>, strict_json_schema=True, is_enabled=True),\n",
       " FunctionTool(name='calender_generator_tool', description='Generate a calender with all the events and their details', params_json_schema={'properties': {'input': {'title': 'Input', 'type': 'string'}}, 'required': ['input'], 'title': 'calender_generator_tool_args', 'type': 'object', 'additionalProperties': False}, on_invoke_tool=<function function_tool.<locals>._create_function_tool.<locals>._on_invoke_tool at 0x7fab09491bc0>, strict_json_schema=True, is_enabled=True)]"
      ]
     },
     "execution_count": 42,
     "metadata": {},
     "output_type": "execute_result"
    }
   ],
   "source": [
    "emailer_agent_tools = [subject_tool, html_tool, send_html_email]\n",
    "tools"
   ]
  },
  {
   "cell_type": "code",
   "execution_count": 43,
   "metadata": {},
   "outputs": [],
   "source": [
    "instructions =\"\"\"You are an email formatter and sender. You receive the body of an email to be sent. \\\n",
    "You first use the subject_writer tool to write a subject for the email, then use the html_converter tool to convert the body to HTML. \\\n",
    "Finally, you use the \"send_html_email\" tool to send the email with the subject and HTML body.( you're often missing this tep, please make sure, email is sent using \"send_html_email\" tool)\n",
    "Dont ask if you need to send the email, just send it.\n",
    "Also attach the calender appointment as a downloadable ics file.\n",
    "\"\"\"\n",
    "\n",
    "emailer_agent = Agent(\n",
    "    name=\"Email Manager\",\n",
    "    instructions=instructions,\n",
    "    tools=emailer_agent_tools,\n",
    "    model=\"gpt-4o-mini\",\n",
    "    handoff_description=\"Convert an email to HTML and send it\")\n"
   ]
  },
  {
   "cell_type": "code",
   "execution_count": 44,
   "metadata": {},
   "outputs": [],
   "source": [
    "travel_planner_agent_tools = [\n",
    "    activity_planner_tool,\n",
    "    attractions_planner_tool,\n",
    "    restaurant_planner_tool,\n",
    "    calender_generator_tool\n",
    "]\n"
   ]
  },
  {
   "cell_type": "code",
   "execution_count": 45,
   "metadata": {},
   "outputs": [],
   "source": [
    "travel_planner_agent_instructions = \"\"\"\n",
    "    You are a travel planner. You are given a particular destination and number of days to spend. \n",
    "    You need to use the tools given to you to plan the trip.\n",
    "    You need to use the tools in a way that is most efficient and effective.\n",
    "    Send your output to the emailer_agent.\n",
    "\"\"\"\n",
    "\n",
    "travel_planner_agent = Agent(\n",
    "    name=\"travel_planner_agent\",\n",
    "    instructions = travel_planner_agent_instructions,\n",
    "    tools = travel_planner_agent_tools,\n",
    "    handoffs = [emailer_agent],\n",
    "    model = \"gpt-4o-mini\"\n",
    ")\n",
    "\n"
   ]
  },
  {
   "cell_type": "code",
   "execution_count": 46,
   "metadata": {},
   "outputs": [],
   "source": [
    "message = \"Boston, 5 days\"\n",
    "\n",
    "with trace(\"Trip Planner\"):\n",
    "    result = await Runner.run(travel_planner_agent, message)"
   ]
  }
 ],
 "metadata": {
  "kernelspec": {
   "display_name": ".venv",
   "language": "python",
   "name": "python3"
  },
  "language_info": {
   "codemirror_mode": {
    "name": "ipython",
    "version": 3
   },
   "file_extension": ".py",
   "mimetype": "text/x-python",
   "name": "python",
   "nbconvert_exporter": "python",
   "pygments_lexer": "ipython3",
   "version": "3.12.11"
  }
 },
 "nbformat": 4,
 "nbformat_minor": 2
}
