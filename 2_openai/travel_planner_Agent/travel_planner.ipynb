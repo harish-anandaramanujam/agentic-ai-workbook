{
 "cells": [
  {
   "cell_type": "code",
   "execution_count": 26,
   "metadata": {},
   "outputs": [],
   "source": [
    "from dotenv import load_dotenv\n",
    "from agents import Agent, Runner, trace, function_tool\n",
    "from openai.types.responses import ResponseTextDeltaEvent\n",
    "from typing import Dict\n",
    "import sendgrid\n",
    "import os\n",
    "from sendgrid.helpers.mail import Mail, Email, To, Content\n",
    "import asyncio\n"
   ]
  },
  {
   "cell_type": "code",
   "execution_count": 6,
   "metadata": {},
   "outputs": [
    {
     "data": {
      "text/plain": [
       "True"
      ]
     },
     "execution_count": 6,
     "metadata": {},
     "output_type": "execute_result"
    }
   ],
   "source": [
    "\n",
    "load_dotenv(override=True)\n"
   ]
  },
  {
   "cell_type": "code",
   "execution_count": 11,
   "metadata": {},
   "outputs": [],
   "source": [
    "attractions_planner_agent_instructions = \"\"\"\n",
    "You are a attractions planner. You are given a destination and need to plan all must-do things in that city.\n",
    "You should give only the list of attractions and not suggestions on Restaurants, Hotels, etc.\n",
    "Attractions should be something like historical places, museums, parks, etc.. This should not include any activities like hiking,skydiving, kayaking, sunset sails, snorkeling, etc.\n",
    "\"\"\"\n",
    "\n",
    "activity_planner_agent_instructions = \"\"\"\n",
    "You are a activity planner. You are given a destination \n",
    "You need to find all local best activities in that city with their popularity.\n",
    "Activities should be something to experience like skydiving, kayaking, sunset sails, snorkeling, etc.\n",
    "\"\"\"\n",
    "\n",
    "restaurant_planner_agent_instructions = \"\"\"\n",
    "You are a restaurant planner. You are given a destination and number of days to spend.\n",
    "You need to find all local best restaurants in that city with their ratings and reviews. \n",
    "You need to plan for 3 meals a day for the number of days you are staying.\n",
    "\"\"\"\n",
    "\n",
    "attractions_planner_agent = Agent(\n",
    "    name=\"Attractions Planner\",\n",
    "    instructions = attractions_planner_agent_instructions,\n",
    ")\n",
    "\n",
    "activity_planner_agent = Agent(\n",
    "    name=\"Activity Planner\",\n",
    "    instructions = activity_planner_agent_instructions,\n",
    ")\n",
    "\n",
    "restaurant_planner_agent = Agent(\n",
    "    name=\"Restaurant Planner\",\n",
    "    instructions = restaurant_planner_agent_instructions,\n",
    ")\n",
    "\n"
   ]
  },
  {
   "cell_type": "code",
   "execution_count": 16,
   "metadata": {},
   "outputs": [],
   "source": [
    "itenary_planner_agent_instructions = \"\"\"\n",
    "    You are given a list of attractions, activities and restaurants. \n",
    "    You need to pick best attractions, activities and restaurants out of the list to plan a trip to the destination.\n",
    "    You give a day by day plan of the trip with timings for various attractions and activities.\n",
    "    You'll also plan for appropriate schedules for 3 meals a day in nearby restaurants to the current schedule.\n",
    "\"\"\"\n",
    "\n",
    "itenary_planner_agent = Agent(\n",
    "    name=\"Itenary Planner\",\n",
    "    instructions=itenary_planner_agent_instructions,\n",
    ")"
   ]
  },
  {
   "cell_type": "code",
   "execution_count": 33,
   "metadata": {},
   "outputs": [
    {
     "name": "stdout",
     "output_type": "stream",
     "text": [
      "Best Plan:\n",
      "Here is a detailed day-by-day itinerary for your San Diego trip, combining attractions, activities, and meals:\n",
      "\n",
      "### Day 1: Balboa Park and Museums\n",
      "- **7:30 AM:** Breakfast at *The Cottage La Jolla*  \n",
      "  Start your day with delightful French toast and omelets.\n",
      "\n",
      "- **9:00 AM:** Explore Balboa Park  \n",
      "  Wander through gardens and enjoy the scenic beauty.\n",
      "\n",
      "- **11:00 AM:** Visit San Diego Museum of Art  \n",
      "  Appreciate world-class art collections.\n",
      "\n",
      "- **1:00 PM:** Lunch at *Hodad's*  \n",
      "  Enjoy famous burgers in a casual atmosphere.\n",
      "\n",
      "- **2:30 PM:** San Diego Natural History Museum  \n",
      "  Discover fascinating exhibits of natural history.\n",
      "\n",
      "- **4:00 PM:** Museum of Man  \n",
      "  Explore anthropology and cultural history.\n",
      "\n",
      "- **6:30 PM:** Dinner at *Cucina Urbana*  \n",
      "  Savor modern Italian cuisine with a great wine list.\n",
      "\n",
      "### Day 2: History and Heritage\n",
      "- **8:00 AM:** Breakfast at *Great Maple*  \n",
      "  Enjoy maple bacon doughnuts and fresh breakfast dishes.\n",
      "\n",
      "- **9:30 AM:** USS Midway Museum  \n",
      "  Explore historic naval aircraft and exhibits.\n",
      "\n",
      "- **12:00 PM:** Lunch at *Oscar's Mexican Seafood*  \n",
      "  Delight in fish tacos and fresh ceviche.\n",
      "\n",
      "- **1:30 PM:** Cabrillo National Monument  \n",
      "  Enjoy panoramic views and learn about San Diego's history.\n",
      "\n",
      "- **4:00 PM:** Old Town San Diego State Historic Park  \n",
      "  Immerse yourself in San Diego's early history.\n",
      "\n",
      "- **7:00 PM:** Dinner at *Born & Raised*  \n",
      "  Indulge in high-quality steaks and luxury ambiance.\n",
      "\n",
      "### Day 3: Coastal and Animal Attractions\n",
      "- **7:30 AM:** Breakfast at *Richard Walker's Pancake House*  \n",
      "  Relish specialty pancakes and breakfast classics.\n",
      "\n",
      "- **9:00 AM:** La Jolla Cove Snorkeling & Sea Kayaking  \n",
      "  Experience vibrant marine life and sea caves.\n",
      "\n",
      "- **11:30 AM:** Visit Birch Aquarium  \n",
      "  Explore fascinating marine exhibits.\n",
      "\n",
      "- **1:00 PM:** Lunch at *Point Loma Seafoods*  \n",
      "  Enjoy fresh seafood platters and sandwiches.\n",
      "\n",
      "- **2:30 PM:** Paragliding at Torrey Pines Gliderport  \n",
      "  Soar over cliffs for breathtaking views.\n",
      "\n",
      "- **5:00 PM:** Relax at Coronado Beach.\n",
      "\n",
      "- **7:30 PM:** Dinner at *Juniper and Ivy*  \n",
      "  Dine on innovative dishes in a modern setting.\n",
      "\n",
      "### Day 4: Zoo and Gardens\n",
      "- **8:00 AM:** Breakfast at *Cafe 222*  \n",
      "  Known for pumpkin waffles and hearty breakfasts.\n",
      "\n",
      "- **9:30 AM:** San Diego Zoo  \n",
      "  Discover diverse animals and beautiful landscapes.\n",
      "\n",
      "- **1:00 PM:** Lunch at *Phil’s BBQ*  \n",
      "  Savor crowd-favorite ribs and BBQ chicken.\n",
      "\n",
      "- **2:30 PM:** Japanese Friendship Garden  \n",
      "  Relax in this serene and elegant setting.\n",
      "\n",
      "- **4:00 PM:** Explore Desert Garden in Balboa Park.\n",
      "\n",
      "- **6:30 PM:** Dinner at *Kettner Exchange*  \n",
      "  Enjoy creative cocktails and shared plates with rooftop views.\n",
      "\n",
      "### Day 5: Cultural and Artistic Exploration\n",
      "- **8:00 AM:** Breakfast at *Morning Glory*  \n",
      "  Delight in pancakes and unique brunch cocktails.\n",
      "\n",
      "- **9:30 AM:** The Gaslamp Quarter  \n",
      "  Stroll through historic architecture.\n",
      "\n",
      "- **11:30 AM:** Visit Little Italy's art galleries. \n",
      "\n",
      "- **1:00 PM:** Lunch at *The Crack Shack*  \n",
      "  Dive into bold-flavored fried chicken dishes.\n",
      "\n",
      "- **3:00 PM:** San Diego Air & Space Museum  \n",
      "  Explore aviation history and space exhibits.\n",
      "\n",
      "- **5:00 PM:** Seaport Village Exploration  \n",
      "  Enjoy local shops and waterfront dining.\n",
      "\n",
      "- **7:30 PM:** Dinner at *The Marine Room*  \n",
      "  Dine with exquisite seafood dishes and ocean views.\n",
      "\n",
      "### Additional Tips\n",
      "- **Reservations:** Make reservations, especially for dinner.\n",
      "- **Timing Flexibility:** Adjust activity times based on preference and crowd levels.\n",
      "- **Local Events:** Check for local events that may impact your itinerary.\n",
      "\n",
      "Enjoy your adventure in San Diego!\n"
     ]
    }
   ],
   "source": [
    "\n",
    "# message = \"SanDiego, 5 days\"\n",
    "\n",
    "with trace(\"Planning Itenary\"):\n",
    "    results = await asyncio.gather(\n",
    "        Runner.run(attractions_planner_agent, message),\n",
    "        Runner.run(activity_planner_agent, message),\n",
    "        Runner.run(restaurant_planner_agent, message),\n",
    "    )\n",
    "    outputs = [result.final_output for result in results]\n",
    "\n",
    "    todos = \"Attractions, activities and restaurants:\\n\\n\".join(outputs)\n",
    "\n",
    "    plan = await Runner.run(itenary_planner_agent, todos)\n",
    "\n",
    "    print(f\"Best Plan:\\n{plan.final_output}\")\n",
    "\n"
   ]
  },
  {
   "cell_type": "code",
   "execution_count": 21,
   "metadata": {},
   "outputs": [],
   "source": [
    "calender_generator_agent_instructions = \"\"\"\n",
    "You are a calender generator. You are given a ordered list of attractions, activities and restaurants with appropriate days and timings.\n",
    "You need to generate a single ics file with all the events and their details.\n",
    "You need to include all the details like name, description, start and end time, location, etc.\n",
    "This ics file should be in a format that can be imported into any calendar app.\n",
    "\"\"\"\n",
    "\n",
    "calender_generator_agent = Agent(\n",
    "    name=\"Calender Generator\",\n",
    "    instructions = calender_generator_agent_instructions,\n",
    ")"
   ]
  },
  {
   "cell_type": "code",
   "execution_count": null,
   "metadata": {},
   "outputs": [],
   "source": []
  },
  {
   "cell_type": "code",
   "execution_count": 28,
   "metadata": {},
   "outputs": [],
   "source": [
    "@function_tool\n",
    "def send_email(body: str):\n",
    "    \"\"\" Send out an email with the given body to all sales prospects \"\"\"\n",
    "    sg = sendgrid.SendGridAPIClient(api_key=os.environ.get('SENDGRID_API_KEY'))\n",
    "    from_email = Email(\"harishjmhss@gmail.com\")  # Change to your verified sender\n",
    "    to_email = To(\"harishneyveli96@gmail.com\")  # Change to your recipient\n",
    "    content = Content(\"text/plain\", body)\n",
    "    mail = Mail(from_email, to_email, \"Sales email\", content).get()\n",
    "    sg.client.mail.send.post(request_body=mail)\n",
    "    return {\"status\": \"success\"}\n",
    "\n",
    "# send_email(\"This is a test email\")"
   ]
  },
  {
   "cell_type": "code",
   "execution_count": 55,
   "metadata": {},
   "outputs": [],
   "source": [
    "activity_planner_tool = activity_planner_agent.as_tool(tool_name=\"activity_planner_tool\", tool_description=\"Plan only activities for the given destination and number of days\")\n",
    "attractions_planner_tool = attractions_planner_agent.as_tool(tool_name=\"attractions_planner_tool\", tool_description=\"Plan only attractions for the given destination and number of days\")\n",
    "restaurant_planner_tool = restaurant_planner_agent.as_tool(tool_name=\"restaurant_planner_tool\", tool_description=\"Plan only restaurants for the given destination and number of days\")\n",
    "itenary_planner_tool = itenary_planner_agent.as_tool(tool_name=\"itenary_planner_tool\", tool_description=\"Plan a trip to the given destination and number of days by calling activity planner, attractions planner and restaurant planner tools\")\n",
    "calender_generator_tool = calender_generator_agent.as_tool(tool_name=\"calender_generator_tool\", tool_description=\"Generate a calender with all the events and their details\")\n"
   ]
  },
  {
   "cell_type": "code",
   "execution_count": 77,
   "metadata": {},
   "outputs": [],
   "source": [
    "tools = [\n",
    "    activity_planner_tool,\n",
    "    attractions_planner_tool,\n",
    "    restaurant_planner_tool,\n",
    "    calender_generator_tool,\n",
    "    send_email\n",
    "]\n"
   ]
  },
  {
   "cell_type": "code",
   "execution_count": 78,
   "metadata": {},
   "outputs": [],
   "source": [
    "travel_planner_agent_instructions = \"\"\"\n",
    "    You are a travel planner. You are given a particular destination and number of days to spend. \n",
    "    You need to use the tools given to you to plan the trip.\n",
    "    You need to use the tools in a way that is most efficient and effective.\n",
    "    Send email with the itenary to the user including the calender appointment as a downloadable ics file.\n",
    "\"\"\"\n",
    "\n",
    "travel_planner_agent = Agent(\n",
    "    name=\"travel_planner_agent\",\n",
    "    instructions = travel_planner_agent_instructions,\n",
    "    tools = tools,\n",
    "    model = \"gpt-4o-mini\"\n",
    ")\n",
    "\n"
   ]
  },
  {
   "cell_type": "code",
   "execution_count": 79,
   "metadata": {},
   "outputs": [
    {
     "data": {
      "text/plain": [
       "[FunctionTool(name='activity_planner_tool', description='Plan only activities for the given destination and number of days', params_json_schema={'properties': {'input': {'title': 'Input', 'type': 'string'}}, 'required': ['input'], 'title': 'activity_planner_tool_args', 'type': 'object', 'additionalProperties': False}, on_invoke_tool=<function function_tool.<locals>._create_function_tool.<locals>._on_invoke_tool at 0x7fee524ba700>, strict_json_schema=True, is_enabled=True),\n",
       " FunctionTool(name='attractions_planner_tool', description='Plan only attractions for the given destination and number of days', params_json_schema={'properties': {'input': {'title': 'Input', 'type': 'string'}}, 'required': ['input'], 'title': 'attractions_planner_tool_args', 'type': 'object', 'additionalProperties': False}, on_invoke_tool=<function function_tool.<locals>._create_function_tool.<locals>._on_invoke_tool at 0x7fee524baf20>, strict_json_schema=True, is_enabled=True),\n",
       " FunctionTool(name='restaurant_planner_tool', description='Plan only restaurants for the given destination and number of days', params_json_schema={'properties': {'input': {'title': 'Input', 'type': 'string'}}, 'required': ['input'], 'title': 'restaurant_planner_tool_args', 'type': 'object', 'additionalProperties': False}, on_invoke_tool=<function function_tool.<locals>._create_function_tool.<locals>._on_invoke_tool at 0x7fee524bb740>, strict_json_schema=True, is_enabled=True),\n",
       " FunctionTool(name='calender_generator_tool', description='Generate a calender with all the events and their details', params_json_schema={'properties': {'input': {'title': 'Input', 'type': 'string'}}, 'required': ['input'], 'title': 'calender_generator_tool_args', 'type': 'object', 'additionalProperties': False}, on_invoke_tool=<function function_tool.<locals>._create_function_tool.<locals>._on_invoke_tool at 0x7fee524bbb00>, strict_json_schema=True, is_enabled=True),\n",
       " FunctionTool(name='send_email', description='Send out an email with the given body to all sales prospects', params_json_schema={'properties': {'body': {'title': 'Body', 'type': 'string'}}, 'required': ['body'], 'title': 'send_email_args', 'type': 'object', 'additionalProperties': False}, on_invoke_tool=<function function_tool.<locals>._create_function_tool.<locals>._on_invoke_tool at 0x7fee612f1940>, strict_json_schema=True, is_enabled=True)]"
      ]
     },
     "execution_count": 79,
     "metadata": {},
     "output_type": "execute_result"
    }
   ],
   "source": [
    "tools"
   ]
  },
  {
   "cell_type": "code",
   "execution_count": 80,
   "metadata": {},
   "outputs": [],
   "source": [
    "message = \"SanDiego, 5 days\"\n",
    "\n",
    "with trace(\"Trip Planner\"):\n",
    "    result = await Runner.run(travel_planner_agent, message)"
   ]
  },
  {
   "cell_type": "code",
   "execution_count": 63,
   "metadata": {},
   "outputs": [
    {
     "name": "stdout",
     "output_type": "stream",
     "text": [
      "[RunResult(input='SanDiego, 5 days', new_items=[MessageOutputItem(agent=Agent(name='Travel Planner', instructions='You are a attractions planner. You are given a destination and need to plan all must-do things in that city.\\n    You should give only the list of attractions and not suggestions on Restaurants, Hotels, etc.\\n    Attractions should be something like historical places, museums, parks, etc.. This should not include any activities like hiking,skydiving, kayaking, sunset sails, snorkeling, etc.\\n    ', prompt=None, handoff_description=None, handoffs=[], model=None, model_settings=ModelSettings(temperature=None, top_p=None, frequency_penalty=None, presence_penalty=None, tool_choice=None, parallel_tool_calls=None, truncation=None, max_tokens=None, reasoning=None, metadata=None, store=None, include_usage=None, extra_query=None, extra_body=None, extra_headers=None, extra_args=None), tools=[], mcp_servers=[], mcp_config={}, input_guardrails=[], output_guardrails=[], output_type=None, hooks=None, tool_use_behavior='run_llm_again', reset_tool_choice=True), raw_item=ResponseOutputMessage(id='msg_6864ba0e65148199950ba1ad8e8b8db90189d1381181a5b1', content=[ResponseOutputText(annotations=[], text='### Day 1: Balboa Park and Museums\\n1. **Balboa Park**\\n2. **San Diego Museum of Art**\\n3. **San Diego Natural History Museum**\\n4. **Museum of Man**\\n\\n### Day 2: History and Heritage\\n1. **USS Midway Museum**\\n2. **Cabrillo National Monument**\\n3. **Old Town San Diego State Historic Park**\\n\\n### Day 3: Coastal and Animal Attractions\\n1. **La Jolla Cove**\\n2. **Birch Aquarium**\\n3. **Torrey Pines State Natural Reserve** (for its walking paths, within the park)\\n\\n### Day 4: Zoo and Gardens\\n1. **San Diego Zoo**\\n2. **Japanese Friendship Garden**\\n3. **Desert Garden** (in Balboa Park)\\n\\n### Day 5: Cultural and Artistic Exploration\\n1. **The Gaslamp Quarter** (for its historic architecture)\\n2. **Little Italy** (known for its art galleries)\\n3. **San Diego Air & Space Museum**', type='output_text', logprobs=[])], role='assistant', status='completed', type='message'), type='message_output_item')], raw_responses=[ModelResponse(output=[ResponseOutputMessage(id='msg_6864ba0e65148199950ba1ad8e8b8db90189d1381181a5b1', content=[ResponseOutputText(annotations=[], text='### Day 1: Balboa Park and Museums\\n1. **Balboa Park**\\n2. **San Diego Museum of Art**\\n3. **San Diego Natural History Museum**\\n4. **Museum of Man**\\n\\n### Day 2: History and Heritage\\n1. **USS Midway Museum**\\n2. **Cabrillo National Monument**\\n3. **Old Town San Diego State Historic Park**\\n\\n### Day 3: Coastal and Animal Attractions\\n1. **La Jolla Cove**\\n2. **Birch Aquarium**\\n3. **Torrey Pines State Natural Reserve** (for its walking paths, within the park)\\n\\n### Day 4: Zoo and Gardens\\n1. **San Diego Zoo**\\n2. **Japanese Friendship Garden**\\n3. **Desert Garden** (in Balboa Park)\\n\\n### Day 5: Cultural and Artistic Exploration\\n1. **The Gaslamp Quarter** (for its historic architecture)\\n2. **Little Italy** (known for its art galleries)\\n3. **San Diego Air & Space Museum**', type='output_text', logprobs=[])], role='assistant', status='completed', type='message')], usage=Usage(requests=1, input_tokens=98, input_tokens_details=InputTokensDetails(cached_tokens=0), output_tokens=209, output_tokens_details=OutputTokensDetails(reasoning_tokens=0), total_tokens=307), response_id='resp_6864ba0dda8c8199900aac80f5cd8f9c0189d1381181a5b1')], final_output='### Day 1: Balboa Park and Museums\\n1. **Balboa Park**\\n2. **San Diego Museum of Art**\\n3. **San Diego Natural History Museum**\\n4. **Museum of Man**\\n\\n### Day 2: History and Heritage\\n1. **USS Midway Museum**\\n2. **Cabrillo National Monument**\\n3. **Old Town San Diego State Historic Park**\\n\\n### Day 3: Coastal and Animal Attractions\\n1. **La Jolla Cove**\\n2. **Birch Aquarium**\\n3. **Torrey Pines State Natural Reserve** (for its walking paths, within the park)\\n\\n### Day 4: Zoo and Gardens\\n1. **San Diego Zoo**\\n2. **Japanese Friendship Garden**\\n3. **Desert Garden** (in Balboa Park)\\n\\n### Day 5: Cultural and Artistic Exploration\\n1. **The Gaslamp Quarter** (for its historic architecture)\\n2. **Little Italy** (known for its art galleries)\\n3. **San Diego Air & Space Museum**', input_guardrail_results=[], output_guardrail_results=[], context_wrapper=RunContextWrapper(context=None, usage=Usage(requests=1, input_tokens=98, input_tokens_details=InputTokensDetails(cached_tokens=0), output_tokens=209, output_tokens_details=OutputTokensDetails(reasoning_tokens=0), total_tokens=307)), _last_agent=Agent(name='Travel Planner', instructions='You are a attractions planner. You are given a destination and need to plan all must-do things in that city.\\n    You should give only the list of attractions and not suggestions on Restaurants, Hotels, etc.\\n    Attractions should be something like historical places, museums, parks, etc.. This should not include any activities like hiking,skydiving, kayaking, sunset sails, snorkeling, etc.\\n    ', prompt=None, handoff_description=None, handoffs=[], model=None, model_settings=ModelSettings(temperature=None, top_p=None, frequency_penalty=None, presence_penalty=None, tool_choice=None, parallel_tool_calls=None, truncation=None, max_tokens=None, reasoning=None, metadata=None, store=None, include_usage=None, extra_query=None, extra_body=None, extra_headers=None, extra_args=None), tools=[], mcp_servers=[], mcp_config={}, input_guardrails=[], output_guardrails=[], output_type=None, hooks=None, tool_use_behavior='run_llm_again', reset_tool_choice=True)), RunResult(input='SanDiego, 5 days', new_items=[MessageOutputItem(agent=Agent(name='Activity Planner', instructions='You are a activity planner. You are given a destination \\n    You need to find all local best activities in that city with their popularity.\\n    Activities should be something to experience like skydiving, kayaking, sunset sails, snorkeling, etc.\\n    ', prompt=None, handoff_description=None, handoffs=[], model=None, model_settings=ModelSettings(temperature=None, top_p=None, frequency_penalty=None, presence_penalty=None, tool_choice=None, parallel_tool_calls=None, truncation=None, max_tokens=None, reasoning=None, metadata=None, store=None, include_usage=None, extra_query=None, extra_body=None, extra_headers=None, extra_args=None), tools=[], mcp_servers=[], mcp_config={}, input_guardrails=[], output_guardrails=[], output_type=None, hooks=None, tool_use_behavior='run_llm_again', reset_tool_choice=True), raw_item=ResponseOutputMessage(id='msg_6864ba0e5418819ab75b0c4501539b6501289abe68aa0d02', content=[ResponseOutputText(annotations=[], text=\"San Diego is a fantastic destination for outdoor activities and unique experiences. Here’s a list of must-try activities over a five-day visit:\\n\\n### Day 1: Ocean Adventures\\n- **La Jolla Cove Snorkeling & Sea Kayaking**\\n  - **Popularity:** Very popular\\n  - Experience the vibrant marine life and explore the sea caves.\\n\\n- **Surfing at Pacific Beach**\\n  - **Popularity:** Extremely popular\\n  - Ideal for surfers of all skill levels; lessons available.\\n\\n### Day 2: Scenic Beauty & Wildlife\\n- **San Diego Zoo**\\n  - **Popularity:** World-renowned\\n  - Discover over 3,500 animals in a sprawling and beautifully designed zoo.\\n\\n- **Sunset Sail in San Diego Bay**\\n  - **Popularity:** Highly popular\\n  - Enjoy breathtaking views of the sunset against the city skyline.\\n\\n### Day 3: Thrills & Relaxation\\n- **Paragliding at Torrey Pines Gliderport**\\n  - **Popularity:** Popular\\n  - Soar over the cliffs for an unforgettable aerial view.\\n\\n- **Relax at Coronado Beach**\\n  - **Popularity:** Very popular\\n  - Enjoy the pristine sands and gentle waves.\\n\\n### Day 4: Unique Experiences\\n- **Balboa Park Exploration**\\n  - **Popularity:** Very popular\\n  - Visit museums, gardens, and enjoy performing arts.\\n\\n- **Old Town Tequila and Tortillas Tour**\\n  - **Popularity:** Popular with foodies\\n  - Sample authentic Mexican cuisine and learn about the area's history.\\n\\n### Day 5: Adventurous Hikes & Culture\\n- **Hiking at Torrey Pines State Natural Reserve**\\n  - **Popularity:** Popular\\n  - Offers stunning coastal trails with panoramic ocean views.\\n\\n- **Seaport Village Exploration**\\n  - **Popularity:** Popular for shopping and dining\\n  - Stroll through the waterfront and enjoy local shops and eateries.\\n\\nThese activities highlight the diverse offerings of San Diego, combining adventure, culture, and relaxation. Enjoy your trip!\", type='output_text', logprobs=[])], role='assistant', status='completed', type='message'), type='message_output_item')], raw_responses=[ModelResponse(output=[ResponseOutputMessage(id='msg_6864ba0e5418819ab75b0c4501539b6501289abe68aa0d02', content=[ResponseOutputText(annotations=[], text=\"San Diego is a fantastic destination for outdoor activities and unique experiences. Here’s a list of must-try activities over a five-day visit:\\n\\n### Day 1: Ocean Adventures\\n- **La Jolla Cove Snorkeling & Sea Kayaking**\\n  - **Popularity:** Very popular\\n  - Experience the vibrant marine life and explore the sea caves.\\n\\n- **Surfing at Pacific Beach**\\n  - **Popularity:** Extremely popular\\n  - Ideal for surfers of all skill levels; lessons available.\\n\\n### Day 2: Scenic Beauty & Wildlife\\n- **San Diego Zoo**\\n  - **Popularity:** World-renowned\\n  - Discover over 3,500 animals in a sprawling and beautifully designed zoo.\\n\\n- **Sunset Sail in San Diego Bay**\\n  - **Popularity:** Highly popular\\n  - Enjoy breathtaking views of the sunset against the city skyline.\\n\\n### Day 3: Thrills & Relaxation\\n- **Paragliding at Torrey Pines Gliderport**\\n  - **Popularity:** Popular\\n  - Soar over the cliffs for an unforgettable aerial view.\\n\\n- **Relax at Coronado Beach**\\n  - **Popularity:** Very popular\\n  - Enjoy the pristine sands and gentle waves.\\n\\n### Day 4: Unique Experiences\\n- **Balboa Park Exploration**\\n  - **Popularity:** Very popular\\n  - Visit museums, gardens, and enjoy performing arts.\\n\\n- **Old Town Tequila and Tortillas Tour**\\n  - **Popularity:** Popular with foodies\\n  - Sample authentic Mexican cuisine and learn about the area's history.\\n\\n### Day 5: Adventurous Hikes & Culture\\n- **Hiking at Torrey Pines State Natural Reserve**\\n  - **Popularity:** Popular\\n  - Offers stunning coastal trails with panoramic ocean views.\\n\\n- **Seaport Village Exploration**\\n  - **Popularity:** Popular for shopping and dining\\n  - Stroll through the waterfront and enjoy local shops and eateries.\\n\\nThese activities highlight the diverse offerings of San Diego, combining adventure, culture, and relaxation. Enjoy your trip!\", type='output_text', logprobs=[])], role='assistant', status='completed', type='message')], usage=Usage(requests=1, input_tokens=68, input_tokens_details=InputTokensDetails(cached_tokens=0), output_tokens=408, output_tokens_details=OutputTokensDetails(reasoning_tokens=0), total_tokens=476), response_id='resp_6864ba0dcc84819a8c12b1a358ac760901289abe68aa0d02')], final_output=\"San Diego is a fantastic destination for outdoor activities and unique experiences. Here’s a list of must-try activities over a five-day visit:\\n\\n### Day 1: Ocean Adventures\\n- **La Jolla Cove Snorkeling & Sea Kayaking**\\n  - **Popularity:** Very popular\\n  - Experience the vibrant marine life and explore the sea caves.\\n\\n- **Surfing at Pacific Beach**\\n  - **Popularity:** Extremely popular\\n  - Ideal for surfers of all skill levels; lessons available.\\n\\n### Day 2: Scenic Beauty & Wildlife\\n- **San Diego Zoo**\\n  - **Popularity:** World-renowned\\n  - Discover over 3,500 animals in a sprawling and beautifully designed zoo.\\n\\n- **Sunset Sail in San Diego Bay**\\n  - **Popularity:** Highly popular\\n  - Enjoy breathtaking views of the sunset against the city skyline.\\n\\n### Day 3: Thrills & Relaxation\\n- **Paragliding at Torrey Pines Gliderport**\\n  - **Popularity:** Popular\\n  - Soar over the cliffs for an unforgettable aerial view.\\n\\n- **Relax at Coronado Beach**\\n  - **Popularity:** Very popular\\n  - Enjoy the pristine sands and gentle waves.\\n\\n### Day 4: Unique Experiences\\n- **Balboa Park Exploration**\\n  - **Popularity:** Very popular\\n  - Visit museums, gardens, and enjoy performing arts.\\n\\n- **Old Town Tequila and Tortillas Tour**\\n  - **Popularity:** Popular with foodies\\n  - Sample authentic Mexican cuisine and learn about the area's history.\\n\\n### Day 5: Adventurous Hikes & Culture\\n- **Hiking at Torrey Pines State Natural Reserve**\\n  - **Popularity:** Popular\\n  - Offers stunning coastal trails with panoramic ocean views.\\n\\n- **Seaport Village Exploration**\\n  - **Popularity:** Popular for shopping and dining\\n  - Stroll through the waterfront and enjoy local shops and eateries.\\n\\nThese activities highlight the diverse offerings of San Diego, combining adventure, culture, and relaxation. Enjoy your trip!\", input_guardrail_results=[], output_guardrail_results=[], context_wrapper=RunContextWrapper(context=None, usage=Usage(requests=1, input_tokens=68, input_tokens_details=InputTokensDetails(cached_tokens=0), output_tokens=408, output_tokens_details=OutputTokensDetails(reasoning_tokens=0), total_tokens=476)), _last_agent=Agent(name='Activity Planner', instructions='You are a activity planner. You are given a destination \\n    You need to find all local best activities in that city with their popularity.\\n    Activities should be something to experience like skydiving, kayaking, sunset sails, snorkeling, etc.\\n    ', prompt=None, handoff_description=None, handoffs=[], model=None, model_settings=ModelSettings(temperature=None, top_p=None, frequency_penalty=None, presence_penalty=None, tool_choice=None, parallel_tool_calls=None, truncation=None, max_tokens=None, reasoning=None, metadata=None, store=None, include_usage=None, extra_query=None, extra_body=None, extra_headers=None, extra_args=None), tools=[], mcp_servers=[], mcp_config={}, input_guardrails=[], output_guardrails=[], output_type=None, hooks=None, tool_use_behavior='run_llm_again', reset_tool_choice=True)), RunResult(input='SanDiego, 5 days', new_items=[MessageOutputItem(agent=Agent(name='Restaurant Planner', instructions='You are a restaurant planner. You are given a destination and number of days to spend.\\n    You need to find all local best restaurants in that city with their ratings and reviews. \\n    You need to plan for 3 meals a day for the number of days you are staying.\\n    ', prompt=None, handoff_description=None, handoffs=[], model=None, model_settings=ModelSettings(temperature=None, top_p=None, frequency_penalty=None, presence_penalty=None, tool_choice=None, parallel_tool_calls=None, truncation=None, max_tokens=None, reasoning=None, metadata=None, store=None, include_usage=None, extra_query=None, extra_body=None, extra_headers=None, extra_args=None), tools=[], mcp_servers=[], mcp_config={}, input_guardrails=[], output_guardrails=[], output_type=None, hooks=None, tool_use_behavior='run_llm_again', reset_tool_choice=True), raw_item=ResponseOutputMessage(id='msg_6864ba0e9a28819992ad0e3ad7b608dc07feff74afdc1dc9', content=[ResponseOutputText(annotations=[], text=\"Here's a meal plan for San Diego over 5 days, focusing on top-rated local restaurants. I've selected a variety of cuisines to provide a diverse dining experience. Each meal suggestion includes highly-rated spots known for their quality and popularity.\\n\\n### Day 1\\n- **Breakfast:**  \\n  *The Cottage La Jolla*  \\n  Cuisine: American   \\n  Highlights: Known for delicious French toast and omelets.  \\n \\n- **Lunch:**  \\n  *Hodad's*  \\n  Cuisine: American/Burgers  \\n  Highlights: Famous for its burgers and casual vibe.  \\n\\n- **Dinner:**  \\n  *Cucina Urbana*  \\n  Cuisine: Italian  \\n  Highlights: Modern twist on Italian classics with a great wine selection.\\n\\n### Day 2\\n- **Breakfast:**  \\n  *Great Maple*  \\n  Cuisine: American  \\n  Highlights: Known for maple bacon doughnuts and fresh twists on classic breakfast dishes.  \\n\\n- **Lunch:**  \\n  *Oscar's Mexican Seafood*  \\n  Cuisine: Mexican/Seafood  \\n  Highlights: Famous for fish tacos and fresh ceviche.  \\n\\n- **Dinner:**  \\n  *Born & Raised*  \\n  Cuisine: Steakhouse  \\n  Highlights: Renowned for high-quality steaks and luxurious interior.\\n\\n### Day 3\\n- **Breakfast:**  \\n  *Richard Walker's Pancake House*  \\n  Cuisine: American  \\n  Highlights: Specialty pancakes and a variety of breakfast classics.\\n\\n- **Lunch:**  \\n  *Point Loma Seafoods*  \\n  Cuisine: Seafood  \\n  Highlights: Great fresh seafood platters and sandwiches.  \\n\\n- **Dinner:**  \\n  *Juniper and Ivy*  \\n  Cuisine: New American  \\n  Highlights: Innovative dishes and a sleek, modern setting.  \\n\\n### Day 4\\n- **Breakfast:**  \\n  *Cafe 222*  \\n  Cuisine: American  \\n  Highlights: Known for their pumpkin waffles and hearty breakfasts.  \\n\\n- **Lunch:**  \\n  *Phil’s BBQ*  \\n  Cuisine: BBQ  \\n  Highlights: Crowd favorite for ribs and BBQ chicken.  \\n\\n- **Dinner:**  \\n  *Kettner Exchange*  \\n  Cuisine: American  \\n  Highlights: Creative cocktails and shared plates with beautiful rooftop views.\\n\\n### Day 5\\n- **Breakfast:**  \\n  *Morning Glory*  \\n  Cuisine: Breakfast/Brunch  \\n  Highlights: Known for pancakes and unique brunch cocktails.\\n  \\n- **Lunch:**  \\n  *The Crack Shack*  \\n  Cuisine: American/Chicken  \\n  Highlights: Popular for fried chicken and bold flavors.\\n\\n- **Dinner:**  \\n  *The Marine Room*  \\n  Cuisine: French/Seafood  \\n  Highlights: Fine dining with ocean views, known for exquisite seafood dishes.\\n\\n### Additional Notes\\n- **Reservations:** Always check for reservation options, especially for dinner.\\n- **Reviews & Ratings:** Look on platforms like Yelp, TripAdvisor, or Google for the latest reviews and ratings.\\n- **Local Events:** Be mindful of local events that might affect availability or crowd levels.\\n\\nEnjoy your culinary journey in San Diego!\", type='output_text', logprobs=[])], role='assistant', status='completed', type='message'), type='message_output_item')], raw_responses=[ModelResponse(output=[ResponseOutputMessage(id='msg_6864ba0e9a28819992ad0e3ad7b608dc07feff74afdc1dc9', content=[ResponseOutputText(annotations=[], text=\"Here's a meal plan for San Diego over 5 days, focusing on top-rated local restaurants. I've selected a variety of cuisines to provide a diverse dining experience. Each meal suggestion includes highly-rated spots known for their quality and popularity.\\n\\n### Day 1\\n- **Breakfast:**  \\n  *The Cottage La Jolla*  \\n  Cuisine: American   \\n  Highlights: Known for delicious French toast and omelets.  \\n \\n- **Lunch:**  \\n  *Hodad's*  \\n  Cuisine: American/Burgers  \\n  Highlights: Famous for its burgers and casual vibe.  \\n\\n- **Dinner:**  \\n  *Cucina Urbana*  \\n  Cuisine: Italian  \\n  Highlights: Modern twist on Italian classics with a great wine selection.\\n\\n### Day 2\\n- **Breakfast:**  \\n  *Great Maple*  \\n  Cuisine: American  \\n  Highlights: Known for maple bacon doughnuts and fresh twists on classic breakfast dishes.  \\n\\n- **Lunch:**  \\n  *Oscar's Mexican Seafood*  \\n  Cuisine: Mexican/Seafood  \\n  Highlights: Famous for fish tacos and fresh ceviche.  \\n\\n- **Dinner:**  \\n  *Born & Raised*  \\n  Cuisine: Steakhouse  \\n  Highlights: Renowned for high-quality steaks and luxurious interior.\\n\\n### Day 3\\n- **Breakfast:**  \\n  *Richard Walker's Pancake House*  \\n  Cuisine: American  \\n  Highlights: Specialty pancakes and a variety of breakfast classics.\\n\\n- **Lunch:**  \\n  *Point Loma Seafoods*  \\n  Cuisine: Seafood  \\n  Highlights: Great fresh seafood platters and sandwiches.  \\n\\n- **Dinner:**  \\n  *Juniper and Ivy*  \\n  Cuisine: New American  \\n  Highlights: Innovative dishes and a sleek, modern setting.  \\n\\n### Day 4\\n- **Breakfast:**  \\n  *Cafe 222*  \\n  Cuisine: American  \\n  Highlights: Known for their pumpkin waffles and hearty breakfasts.  \\n\\n- **Lunch:**  \\n  *Phil’s BBQ*  \\n  Cuisine: BBQ  \\n  Highlights: Crowd favorite for ribs and BBQ chicken.  \\n\\n- **Dinner:**  \\n  *Kettner Exchange*  \\n  Cuisine: American  \\n  Highlights: Creative cocktails and shared plates with beautiful rooftop views.\\n\\n### Day 5\\n- **Breakfast:**  \\n  *Morning Glory*  \\n  Cuisine: Breakfast/Brunch  \\n  Highlights: Known for pancakes and unique brunch cocktails.\\n  \\n- **Lunch:**  \\n  *The Crack Shack*  \\n  Cuisine: American/Chicken  \\n  Highlights: Popular for fried chicken and bold flavors.\\n\\n- **Dinner:**  \\n  *The Marine Room*  \\n  Cuisine: French/Seafood  \\n  Highlights: Fine dining with ocean views, known for exquisite seafood dishes.\\n\\n### Additional Notes\\n- **Reservations:** Always check for reservation options, especially for dinner.\\n- **Reviews & Ratings:** Look on platforms like Yelp, TripAdvisor, or Google for the latest reviews and ratings.\\n- **Local Events:** Be mindful of local events that might affect availability or crowd levels.\\n\\nEnjoy your culinary journey in San Diego!\", type='output_text', logprobs=[])], role='assistant', status='completed', type='message')], usage=Usage(requests=1, input_tokens=76, input_tokens_details=InputTokensDetails(cached_tokens=0), output_tokens=618, output_tokens_details=OutputTokensDetails(reasoning_tokens=0), total_tokens=694), response_id='resp_6864ba0dce3c8199ba424fd94b5620b307feff74afdc1dc9')], final_output=\"Here's a meal plan for San Diego over 5 days, focusing on top-rated local restaurants. I've selected a variety of cuisines to provide a diverse dining experience. Each meal suggestion includes highly-rated spots known for their quality and popularity.\\n\\n### Day 1\\n- **Breakfast:**  \\n  *The Cottage La Jolla*  \\n  Cuisine: American   \\n  Highlights: Known for delicious French toast and omelets.  \\n \\n- **Lunch:**  \\n  *Hodad's*  \\n  Cuisine: American/Burgers  \\n  Highlights: Famous for its burgers and casual vibe.  \\n\\n- **Dinner:**  \\n  *Cucina Urbana*  \\n  Cuisine: Italian  \\n  Highlights: Modern twist on Italian classics with a great wine selection.\\n\\n### Day 2\\n- **Breakfast:**  \\n  *Great Maple*  \\n  Cuisine: American  \\n  Highlights: Known for maple bacon doughnuts and fresh twists on classic breakfast dishes.  \\n\\n- **Lunch:**  \\n  *Oscar's Mexican Seafood*  \\n  Cuisine: Mexican/Seafood  \\n  Highlights: Famous for fish tacos and fresh ceviche.  \\n\\n- **Dinner:**  \\n  *Born & Raised*  \\n  Cuisine: Steakhouse  \\n  Highlights: Renowned for high-quality steaks and luxurious interior.\\n\\n### Day 3\\n- **Breakfast:**  \\n  *Richard Walker's Pancake House*  \\n  Cuisine: American  \\n  Highlights: Specialty pancakes and a variety of breakfast classics.\\n\\n- **Lunch:**  \\n  *Point Loma Seafoods*  \\n  Cuisine: Seafood  \\n  Highlights: Great fresh seafood platters and sandwiches.  \\n\\n- **Dinner:**  \\n  *Juniper and Ivy*  \\n  Cuisine: New American  \\n  Highlights: Innovative dishes and a sleek, modern setting.  \\n\\n### Day 4\\n- **Breakfast:**  \\n  *Cafe 222*  \\n  Cuisine: American  \\n  Highlights: Known for their pumpkin waffles and hearty breakfasts.  \\n\\n- **Lunch:**  \\n  *Phil’s BBQ*  \\n  Cuisine: BBQ  \\n  Highlights: Crowd favorite for ribs and BBQ chicken.  \\n\\n- **Dinner:**  \\n  *Kettner Exchange*  \\n  Cuisine: American  \\n  Highlights: Creative cocktails and shared plates with beautiful rooftop views.\\n\\n### Day 5\\n- **Breakfast:**  \\n  *Morning Glory*  \\n  Cuisine: Breakfast/Brunch  \\n  Highlights: Known for pancakes and unique brunch cocktails.\\n  \\n- **Lunch:**  \\n  *The Crack Shack*  \\n  Cuisine: American/Chicken  \\n  Highlights: Popular for fried chicken and bold flavors.\\n\\n- **Dinner:**  \\n  *The Marine Room*  \\n  Cuisine: French/Seafood  \\n  Highlights: Fine dining with ocean views, known for exquisite seafood dishes.\\n\\n### Additional Notes\\n- **Reservations:** Always check for reservation options, especially for dinner.\\n- **Reviews & Ratings:** Look on platforms like Yelp, TripAdvisor, or Google for the latest reviews and ratings.\\n- **Local Events:** Be mindful of local events that might affect availability or crowd levels.\\n\\nEnjoy your culinary journey in San Diego!\", input_guardrail_results=[], output_guardrail_results=[], context_wrapper=RunContextWrapper(context=None, usage=Usage(requests=1, input_tokens=76, input_tokens_details=InputTokensDetails(cached_tokens=0), output_tokens=618, output_tokens_details=OutputTokensDetails(reasoning_tokens=0), total_tokens=694)), _last_agent=Agent(name='Restaurant Planner', instructions='You are a restaurant planner. You are given a destination and number of days to spend.\\n    You need to find all local best restaurants in that city with their ratings and reviews. \\n    You need to plan for 3 meals a day for the number of days you are staying.\\n    ', prompt=None, handoff_description=None, handoffs=[], model=None, model_settings=ModelSettings(temperature=None, top_p=None, frequency_penalty=None, presence_penalty=None, tool_choice=None, parallel_tool_calls=None, truncation=None, max_tokens=None, reasoning=None, metadata=None, store=None, include_usage=None, extra_query=None, extra_body=None, extra_headers=None, extra_args=None), tools=[], mcp_servers=[], mcp_config={}, input_guardrails=[], output_guardrails=[], output_type=None, hooks=None, tool_use_behavior='run_llm_again', reset_tool_choice=True))]\n"
     ]
    }
   ],
   "source": [
    "print(results)"
   ]
  }
 ],
 "metadata": {
  "kernelspec": {
   "display_name": ".venv",
   "language": "python",
   "name": "python3"
  },
  "language_info": {
   "codemirror_mode": {
    "name": "ipython",
    "version": 3
   },
   "file_extension": ".py",
   "mimetype": "text/x-python",
   "name": "python",
   "nbconvert_exporter": "python",
   "pygments_lexer": "ipython3",
   "version": "3.12.11"
  }
 },
 "nbformat": 4,
 "nbformat_minor": 2
}
