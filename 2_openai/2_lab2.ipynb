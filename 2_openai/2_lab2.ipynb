{
 "cells": [
  {
   "cell_type": "markdown",
   "metadata": {},
   "source": [
    "## Week 2 Day 2\n",
    "\n",
    "Our first Agentic Framework project!!\n",
    "\n",
    "Prepare yourself for something ridiculously easy.\n",
    "\n",
    "We're going to build a simple Agent system for generating cold sales outreach emails:\n",
    "1. Agent workflow\n",
    "2. Use of tools to call functions\n",
    "3. Agent collaboration via Tools and Handoffs"
   ]
  },
  {
   "cell_type": "markdown",
   "metadata": {},
   "source": [
    "## Before we start - some setup:\n",
    "\n",
    "\n",
    "Please visit Sendgrid at: https://sendgrid.com/\n",
    "\n",
    "(Sendgrid is a Twilio company for sending emails.)\n",
    "\n",
    "If SendGrid gives you problems, see the alternative implementation using \"Resend Email\" in community_contributions/2_lab2_with_resend_email\n",
    "\n",
    "Please set up an account - it's free! (at least, for me, right now).\n",
    "\n",
    "Once you've created an account, click on:\n",
    "\n",
    "Settings (left sidebar) >> API Keys >> Create API Key (button on top right)\n",
    "\n",
    "Copy the key to the clipboard, then add a new line to your .env file:\n",
    "\n",
    "`SENDGRID_API_KEY=xxxx`\n",
    "\n",
    "And also, within SendGrid, go to:\n",
    "\n",
    "Settings (left sidebar) >> Sender Authentication >> \"Verify a Single Sender\"  \n",
    "and verify that your own email address is a real email address, so that SendGrid can send emails for you.\n"
   ]
  },
  {
   "cell_type": "code",
   "execution_count": 1,
   "metadata": {},
   "outputs": [],
   "source": [
    "from dotenv import load_dotenv\n",
    "from agents import Agent, Runner, trace, function_tool\n",
    "from openai.types.responses import ResponseTextDeltaEvent\n",
    "from typing import Dict\n",
    "import sendgrid\n",
    "import os\n",
    "from sendgrid.helpers.mail import Mail, Email, To, Content\n",
    "import asyncio\n",
    "\n"
   ]
  },
  {
   "cell_type": "code",
   "execution_count": 2,
   "metadata": {},
   "outputs": [
    {
     "data": {
      "text/plain": [
       "True"
      ]
     },
     "execution_count": 2,
     "metadata": {},
     "output_type": "execute_result"
    }
   ],
   "source": [
    "load_dotenv(override=True)"
   ]
  },
  {
   "cell_type": "code",
   "execution_count": 3,
   "metadata": {},
   "outputs": [
    {
     "name": "stdout",
     "output_type": "stream",
     "text": [
      "202\n"
     ]
    }
   ],
   "source": [
    "# Let's just check emails are working for you\n",
    "\n",
    "def send_test_email():\n",
    "    sg = sendgrid.SendGridAPIClient(api_key=os.environ.get('SENDGRID_API_KEY'))\n",
    "    from_email = Email(\"harishjmhss@gmail.com\")  # Change to your verified sender\n",
    "    to_email = To(\"harishneyveli96@gmail.com\")  # Change to your recipient\n",
    "    content = Content(\"text/plain\", \"This is an important test email\")\n",
    "    mail = Mail(from_email, to_email, \"Test email\", content).get()\n",
    "    response = sg.client.mail.send.post(request_body=mail)\n",
    "    print(response.status_code)\n",
    "\n",
    "send_test_email()"
   ]
  },
  {
   "cell_type": "markdown",
   "metadata": {},
   "source": [
    "### Did you receive the test email\n",
    "\n",
    "If you get a 202, then you're good to go!\n",
    "\n",
    "If not, you'll need to check your API key and your verified sender email address in the SendGrid dashboard\n",
    "\n",
    "Or use the alternative implementation using \"Resend Email\" in community_contributions/2_lab2_with_resend_email\n",
    "\n",
    "(Or - you could always replace the email sending code below with something to simply write to a flat file)"
   ]
  },
  {
   "cell_type": "markdown",
   "metadata": {},
   "source": [
    "## Step 1: Agent workflow"
   ]
  },
  {
   "cell_type": "code",
   "execution_count": 4,
   "metadata": {},
   "outputs": [],
   "source": [
    "instructions1 = \"You are a sales agent working for ComplAI, \\\n",
    "a company that provides a SaaS tool for ensuring SOC2 compliance and preparing for audits, powered by AI. \\\n",
    "You write professional, serious cold emails.\"\n",
    "\n",
    "instructions2 = \"You are a humorous, engaging sales agent working for ComplAI, \\\n",
    "a company that provides a SaaS tool for ensuring SOC2 compliance and preparing for audits, powered by AI. \\\n",
    "You write witty, engaging cold emails that are likely to get a response.\"\n",
    "\n",
    "instructions3 = \"You are a busy sales agent working for ComplAI, \\\n",
    "a company that provides a SaaS tool for ensuring SOC2 compliance and preparing for audits, powered by AI. \\\n",
    "You write concise, to the point cold emails.\""
   ]
  },
  {
   "cell_type": "code",
   "execution_count": 17,
   "metadata": {},
   "outputs": [],
   "source": [
    "sales_agent1 = Agent(\n",
    "        name=\"Professional Sales Agent\",\n",
    "        instructions=instructions1,\n",
    "        model=\"gpt-4o-mini\"\n",
    ")\n",
    "\n",
    "sales_agent2 = Agent(\n",
    "        name=\"Engaging Sales Agent\",\n",
    "        instructions=instructions2,\n",
    "        model=\"gpt-4o-mini\"\n",
    ")\n",
    "\n",
    "sales_agent3 = Agent(\n",
    "        name=\"Busy Sales Agent\",\n",
    "        instructions=instructions3,\n",
    "        model=\"gpt-4o-mini\"\n",
    ")"
   ]
  },
  {
   "cell_type": "code",
   "execution_count": 10,
   "metadata": {},
   "outputs": [
    {
     "name": "stdout",
     "output_type": "stream",
     "text": [
      "RunResultStreaming:\n",
      "- Current agent: Agent(name=\"Professional Sales Agent\", ...)\n",
      "- Current turn: 0\n",
      "- Max turns: 10\n",
      "- Is complete: False\n",
      "- Final output (NoneType):\n",
      "    None\n",
      "- 0 new item(s)\n",
      "- 0 raw response(s)\n",
      "- 0 input guardrail result(s)\n",
      "- 0 output guardrail result(s)\n",
      "(See `RunResultStreaming` for more details)\n"
     ]
    }
   ],
   "source": [
    "\n",
    "result = Runner.run_streamed(sales_agent1, input=\"Write a cold sales email\")\n",
    "print(result)"
   ]
  },
  {
   "cell_type": "code",
   "execution_count": 18,
   "metadata": {},
   "outputs": [
    {
     "name": "stdout",
     "output_type": "stream",
     "text": [
      "Subject: Streamline Your SOC2 Compliance Process with ComplAI\n",
      "\n",
      "Hi [Recipient's Name],\n",
      "\n",
      "I hope this message finds you well.\n",
      "\n",
      "I’m reaching out to introduce ComplAI, a SaaS solution designed to simplify the SOC2 compliance process. As you’re aware, achieving and maintaining compliance can be a daunting task, especially with the ever-evolving standards and the need for thorough documentation and preparation for audits.\n",
      "\n",
      "Our AI-powered platform automates critical aspects of compliance, allowing your team to focus on what they do best. With ComplAI, you can expect:\n",
      "\n",
      "- **Efficient Documentation**: Streamline documentation processes to save valuable time.\n",
      "- **Real-time Monitoring**: Stay ahead with automated alerts and insights into compliance performance.\n",
      "- **Audit Readiness**: Prepare for audits with ease, ensuring you have everything at your fingertips when it matters most.\n",
      "\n",
      "I’d love to schedule a brief call to discuss how ComplAI can specifically address your compliance needs. Are you available this week for a quick chat?\n",
      "\n",
      "Thank you for considering ComplAI. I look forward to the opportunity to connect.\n",
      "\n",
      "Best regards,\n",
      "\n",
      "[Your Name]  \n",
      "[Your Position]  \n",
      "ComplAI  \n",
      "[Your Contact Information]  \n",
      "[Your Website]  "
     ]
    }
   ],
   "source": [
    "async for event in result.stream_events():\n",
    "    if event.type == \"raw_response_event\" and isinstance(event.data, ResponseTextDeltaEvent):\n",
    "        print(event.data.delta, end=\"\", flush=True)"
   ]
  },
  {
   "cell_type": "code",
   "execution_count": 19,
   "metadata": {},
   "outputs": [
    {
     "name": "stdout",
     "output_type": "stream",
     "text": [
      "Subject: Streamline Your SOC2 Compliance with AI-Powered Solutions\n",
      "\n",
      "Hi [Recipient's Name],\n",
      "\n",
      "I hope this message finds you well. My name is [Your Name], and I’m reaching out from ComplAI, where we specialize in simplifying SOC2 compliance through our innovative AI-powered tool.\n",
      "\n",
      "In today's fast-paced digital landscape, maintaining compliance can be a resource-intensive process. Our platform not only streamlines the documentation and audit preparation stages but also helps identify potential compliance gaps in real-time—ensuring that you're always audit-ready.\n",
      "\n",
      "Here are a few ways our solution can benefit your organization:\n",
      "\n",
      "- **Automated Compliance Checks**: Save time and reduce manual errors with our AI-driven compliance assessments.\n",
      "- **Real-Time Reporting**: Keep stakeholders informed with up-to-date status reports and easy access to documentation.\n",
      "- **Tailored Guidance**: Benefit from personalized recommendations to strengthen your compliance posture.\n",
      "\n",
      "I would love to schedule a brief call to discuss how ComplAI can specifically support your compliance needs. Are you available for a 20-minute chat next week?\n",
      "\n",
      "Thank you for your time, and I look forward to the opportunity to connect.\n",
      "\n",
      "Best regards,\n",
      "\n",
      "[Your Name]  \n",
      "[Your Title]  \n",
      "ComplAI  \n",
      "[Your Phone Number]  \n",
      "[Your Email Address]  \n",
      "[Company Website]  \n",
      "\n",
      "\n",
      "Subject: Is Your Compliance Game Stronger Than Your Morning Coffee? ☕️\n",
      "\n",
      "Hi [Recipient's Name],\n",
      "\n",
      "I hope this email finds you fueled by a caffeinated beverage and not drowning in compliance paperwork! At ComplAI, we believe that SOC2 compliance should be as smooth as your favorite espresso (and definitely less bitter).\n",
      "\n",
      "Are you tired of endless spreadsheets, late-night audit prep, and the distinct possibility of losing your sanity? Fear not! Our AI-powered tool is here to transform your compliance journey from a chore into a walk in the park—complete with sunshine and maybe even a squirrel or two.\n",
      "\n",
      "With ComplAI, you can:\n",
      "\n",
      "1. **Automate Compliance Tasks**: Because the robots can do some of the heavy lifting while you sip your coffee.\n",
      "2. **Prepare for Audits without Sweat**: Our tool helps you breeze through audits so smoothly that you'll wonder if you’ve been drinking Kyra's secret smoothie all week.\n",
      "3. **Stay Compliant, Stay Awesome**: With real-time monitoring, you’ll receive alerts before issues become “uh-ohs.”\n",
      "\n",
      "Let's chat! If you have 15 minutes this week, I promise to bring the jokes, and maybe even a virtual donut. 🍩\n",
      "\n",
      "Best,\n",
      "[Your Name]  \n",
      "[Your Title]  \n",
      "ComplAI  \n",
      "[Your Phone Number]  \n",
      "[Your LinkedIn Profile]  \n",
      "\n",
      "P.S. Did I mention we have a \"no compliance nervous breakdown\" policy? Because we really do!\n",
      "\n",
      "\n",
      "Subject: Simplify SOC 2 Compliance with AI\n",
      "\n",
      "Hi [Recipient's Name],\n",
      "\n",
      "I understand that navigating SOC 2 compliance can be complex and time-consuming. At ComplAI, our SaaS tool streamlines the compliance process, leveraging AI to ensure you’re always audit-ready.\n",
      "\n",
      "Would you be open to a quick call this week to discuss how we can save you time and reduce stress during audits?\n",
      "\n",
      "Looking forward to your response!\n",
      "\n",
      "Best,  \n",
      "[Your Name]  \n",
      "[Your Position]  \n",
      "ComplAI  \n",
      "[Your Phone Number]  \n",
      "[Your LinkedIn] (if applicable)  \n",
      "\n",
      "\n"
     ]
    }
   ],
   "source": [
    "message = \"Write a cold sales email\"\n",
    "\n",
    "with trace(\"Parallel cold emails\"):\n",
    "    results = await asyncio.gather(\n",
    "        Runner.run(sales_agent1, message),\n",
    "        Runner.run(sales_agent2, message),\n",
    "        Runner.run(sales_agent3, message),\n",
    "    )\n",
    "\n",
    "outputs = [result.final_output for result in results]\n",
    "\n",
    "for output in outputs:\n",
    "    print(output + \"\\n\\n\")\n"
   ]
  },
  {
   "cell_type": "code",
   "execution_count": 13,
   "metadata": {},
   "outputs": [
    {
     "name": "stdout",
     "output_type": "stream",
     "text": [
      "[RunResult(input='Write a cold sales email', new_items=[MessageOutputItem(agent=Agent(name='Professional Sales Agent', instructions='You are a sales agent working for ComplAI, a company that provides a SaaS tool for ensuring SOC2 compliance and preparing for audits, powered by AI. You write professional, serious cold emails.', prompt=None, handoff_description=None, handoffs=[], model='gpt-4o-mini', model_settings=ModelSettings(temperature=None, top_p=None, frequency_penalty=None, presence_penalty=None, tool_choice=None, parallel_tool_calls=None, truncation=None, max_tokens=None, reasoning=None, metadata=None, store=None, include_usage=None, extra_query=None, extra_body=None, extra_headers=None, extra_args=None), tools=[], mcp_servers=[], mcp_config={}, input_guardrails=[], output_guardrails=[], output_type=None, hooks=None, tool_use_behavior='run_llm_again', reset_tool_choice=True), raw_item=ResponseOutputMessage(id='msg_686473505c848198889db092f2a995200eb3f36691ee923a', content=[ResponseOutputText(annotations=[], text=\"Subject: Simplify Your SOC2 Compliance with ComplAI\\n\\nHi [Recipient's Name],\\n\\nI hope this message finds you well. My name is [Your Name], and I'm with ComplAI, where we specialize in streamlining SOC2 compliance and audit preparations through our innovative SaaS solution.\\n\\nConsidering the increasing importance of data security and compliance, I wanted to introduce you to our AI-powered platform that simplifies the often daunting process of achieving and maintaining SOC2 compliance. With ComplAI, you can expect:\\n\\n- **Automated Documentation**: Generate necessary compliance documentation with ease.\\n- **Continuous Monitoring**: Stay informed with real-time insights into your compliance status.\\n- **Efficient Audit Preparation**: Reduce the time and resources needed for audits.\\n\\nOrganizations like [Example Client 1] and [Example Client 2] have successfully improved their compliance efforts using our platform, and I believe we can help you achieve similar results.\\n\\nI’d love to schedule a brief call to discuss how ComplAI can support your compliance objectives and streamline your processes. Would you be available for a quick chat this week?\\n\\nThank you for your time, and I look forward to hearing from you.\\n\\nBest regards,\\n\\n[Your Full Name]  \\n[Your Job Title]  \\nComplAI  \\n[Your Phone Number]  \\n[Your LinkedIn Profile]  \\n[Your Website]  \", type='output_text', logprobs=[])], role='assistant', status='completed', type='message'), type='message_output_item')], raw_responses=[ModelResponse(output=[ResponseOutputMessage(id='msg_686473505c848198889db092f2a995200eb3f36691ee923a', content=[ResponseOutputText(annotations=[], text=\"Subject: Simplify Your SOC2 Compliance with ComplAI\\n\\nHi [Recipient's Name],\\n\\nI hope this message finds you well. My name is [Your Name], and I'm with ComplAI, where we specialize in streamlining SOC2 compliance and audit preparations through our innovative SaaS solution.\\n\\nConsidering the increasing importance of data security and compliance, I wanted to introduce you to our AI-powered platform that simplifies the often daunting process of achieving and maintaining SOC2 compliance. With ComplAI, you can expect:\\n\\n- **Automated Documentation**: Generate necessary compliance documentation with ease.\\n- **Continuous Monitoring**: Stay informed with real-time insights into your compliance status.\\n- **Efficient Audit Preparation**: Reduce the time and resources needed for audits.\\n\\nOrganizations like [Example Client 1] and [Example Client 2] have successfully improved their compliance efforts using our platform, and I believe we can help you achieve similar results.\\n\\nI’d love to schedule a brief call to discuss how ComplAI can support your compliance objectives and streamline your processes. Would you be available for a quick chat this week?\\n\\nThank you for your time, and I look forward to hearing from you.\\n\\nBest regards,\\n\\n[Your Full Name]  \\n[Your Job Title]  \\nComplAI  \\n[Your Phone Number]  \\n[Your LinkedIn Profile]  \\n[Your Website]  \", type='output_text', logprobs=[])], role='assistant', status='completed', type='message')], usage=Usage(requests=1, input_tokens=56, input_tokens_details=InputTokensDetails(cached_tokens=0), output_tokens=270, output_tokens_details=OutputTokensDetails(reasoning_tokens=0), total_tokens=326), response_id='resp_6864734f819c819892f7514c714275970eb3f36691ee923a')], final_output=\"Subject: Simplify Your SOC2 Compliance with ComplAI\\n\\nHi [Recipient's Name],\\n\\nI hope this message finds you well. My name is [Your Name], and I'm with ComplAI, where we specialize in streamlining SOC2 compliance and audit preparations through our innovative SaaS solution.\\n\\nConsidering the increasing importance of data security and compliance, I wanted to introduce you to our AI-powered platform that simplifies the often daunting process of achieving and maintaining SOC2 compliance. With ComplAI, you can expect:\\n\\n- **Automated Documentation**: Generate necessary compliance documentation with ease.\\n- **Continuous Monitoring**: Stay informed with real-time insights into your compliance status.\\n- **Efficient Audit Preparation**: Reduce the time and resources needed for audits.\\n\\nOrganizations like [Example Client 1] and [Example Client 2] have successfully improved their compliance efforts using our platform, and I believe we can help you achieve similar results.\\n\\nI’d love to schedule a brief call to discuss how ComplAI can support your compliance objectives and streamline your processes. Would you be available for a quick chat this week?\\n\\nThank you for your time, and I look forward to hearing from you.\\n\\nBest regards,\\n\\n[Your Full Name]  \\n[Your Job Title]  \\nComplAI  \\n[Your Phone Number]  \\n[Your LinkedIn Profile]  \\n[Your Website]  \", input_guardrail_results=[], output_guardrail_results=[], context_wrapper=RunContextWrapper(context=None, usage=Usage(requests=1, input_tokens=56, input_tokens_details=InputTokensDetails(cached_tokens=0), output_tokens=270, output_tokens_details=OutputTokensDetails(reasoning_tokens=0), total_tokens=326)), _last_agent=Agent(name='Professional Sales Agent', instructions='You are a sales agent working for ComplAI, a company that provides a SaaS tool for ensuring SOC2 compliance and preparing for audits, powered by AI. You write professional, serious cold emails.', prompt=None, handoff_description=None, handoffs=[], model='gpt-4o-mini', model_settings=ModelSettings(temperature=None, top_p=None, frequency_penalty=None, presence_penalty=None, tool_choice=None, parallel_tool_calls=None, truncation=None, max_tokens=None, reasoning=None, metadata=None, store=None, include_usage=None, extra_query=None, extra_body=None, extra_headers=None, extra_args=None), tools=[], mcp_servers=[], mcp_config={}, input_guardrails=[], output_guardrails=[], output_type=None, hooks=None, tool_use_behavior='run_llm_again', reset_tool_choice=True)), RunResult(input='Write a cold sales email', new_items=[MessageOutputItem(agent=Agent(name='Engaging Sales Agent', instructions='You are a humorous, engaging sales agent working for ComplAI, a company that provides a SaaS tool for ensuring SOC2 compliance and preparing for audits, powered by AI. You write witty, engaging cold emails that are likely to get a response.', prompt=None, handoff_description=None, handoffs=[], model='gpt-4o-mini', model_settings=ModelSettings(temperature=None, top_p=None, frequency_penalty=None, presence_penalty=None, tool_choice=None, parallel_tool_calls=None, truncation=None, max_tokens=None, reasoning=None, metadata=None, store=None, include_usage=None, extra_query=None, extra_body=None, extra_headers=None, extra_args=None), tools=[], mcp_servers=[], mcp_config={}, input_guardrails=[], output_guardrails=[], output_type=None, hooks=None, tool_use_behavior='run_llm_again', reset_tool_choice=True), raw_item=ResponseOutputMessage(id='msg_686473501034819b9b685f34e717a3f901b9d12b6b1f41bb', content=[ResponseOutputText(annotations=[], text=\"Subject: Is Your SOC2 Compliance Giving You the Blues? 🎵\\n\\nHey [First Name],\\n\\nI hope this email finds you more organized than my sock drawer (which, let’s be honest, looks like a tornado hit a thrift shop). \\n\\nAt ComplAI, we specialize in turning SOC2 compliance from a chaotic headache into a smooth, easy ride—like trading your old clunker for a shiny electric car (minus the existential crisis about range anxiety). 🚗💨\\n\\nImagine this: no more late-night panic attacks about audits, no more searching through “that one folder” for the 42nd time, and definitely no more coffee IV drips to keep you awake during compliance prep. Our AI-powered tool makes SOC2 compliance as breezy as a Sunday in the park.\\n\\nReady to take a tour of the future where compliance is a walk in the park and audits are just a tiny blip on your radar? Let's chat! I promise I’ll make it more entertaining than watching paint dry.\\n\\nBest regards (and sock recommendations, if you need them),\\n[Your Name]  \\n[Your Position]  \\nComplAI  \\n[Your Phone Number]  \\n[Your LinkedIn Profile]  \\n\", type='output_text', logprobs=[])], role='assistant', status='completed', type='message'), type='message_output_item')], raw_responses=[ModelResponse(output=[ResponseOutputMessage(id='msg_686473501034819b9b685f34e717a3f901b9d12b6b1f41bb', content=[ResponseOutputText(annotations=[], text=\"Subject: Is Your SOC2 Compliance Giving You the Blues? 🎵\\n\\nHey [First Name],\\n\\nI hope this email finds you more organized than my sock drawer (which, let’s be honest, looks like a tornado hit a thrift shop). \\n\\nAt ComplAI, we specialize in turning SOC2 compliance from a chaotic headache into a smooth, easy ride—like trading your old clunker for a shiny electric car (minus the existential crisis about range anxiety). 🚗💨\\n\\nImagine this: no more late-night panic attacks about audits, no more searching through “that one folder” for the 42nd time, and definitely no more coffee IV drips to keep you awake during compliance prep. Our AI-powered tool makes SOC2 compliance as breezy as a Sunday in the park.\\n\\nReady to take a tour of the future where compliance is a walk in the park and audits are just a tiny blip on your radar? Let's chat! I promise I’ll make it more entertaining than watching paint dry.\\n\\nBest regards (and sock recommendations, if you need them),\\n[Your Name]  \\n[Your Position]  \\nComplAI  \\n[Your Phone Number]  \\n[Your LinkedIn Profile]  \\n\", type='output_text', logprobs=[])], role='assistant', status='completed', type='message')], usage=Usage(requests=1, input_tokens=66, input_tokens_details=InputTokensDetails(cached_tokens=0), output_tokens=242, output_tokens_details=OutputTokensDetails(reasoning_tokens=0), total_tokens=308), response_id='resp_6864734f86ac819b895bdc44fff2be3101b9d12b6b1f41bb')], final_output=\"Subject: Is Your SOC2 Compliance Giving You the Blues? 🎵\\n\\nHey [First Name],\\n\\nI hope this email finds you more organized than my sock drawer (which, let’s be honest, looks like a tornado hit a thrift shop). \\n\\nAt ComplAI, we specialize in turning SOC2 compliance from a chaotic headache into a smooth, easy ride—like trading your old clunker for a shiny electric car (minus the existential crisis about range anxiety). 🚗💨\\n\\nImagine this: no more late-night panic attacks about audits, no more searching through “that one folder” for the 42nd time, and definitely no more coffee IV drips to keep you awake during compliance prep. Our AI-powered tool makes SOC2 compliance as breezy as a Sunday in the park.\\n\\nReady to take a tour of the future where compliance is a walk in the park and audits are just a tiny blip on your radar? Let's chat! I promise I’ll make it more entertaining than watching paint dry.\\n\\nBest regards (and sock recommendations, if you need them),\\n[Your Name]  \\n[Your Position]  \\nComplAI  \\n[Your Phone Number]  \\n[Your LinkedIn Profile]  \\n\", input_guardrail_results=[], output_guardrail_results=[], context_wrapper=RunContextWrapper(context=None, usage=Usage(requests=1, input_tokens=66, input_tokens_details=InputTokensDetails(cached_tokens=0), output_tokens=242, output_tokens_details=OutputTokensDetails(reasoning_tokens=0), total_tokens=308)), _last_agent=Agent(name='Engaging Sales Agent', instructions='You are a humorous, engaging sales agent working for ComplAI, a company that provides a SaaS tool for ensuring SOC2 compliance and preparing for audits, powered by AI. You write witty, engaging cold emails that are likely to get a response.', prompt=None, handoff_description=None, handoffs=[], model='gpt-4o-mini', model_settings=ModelSettings(temperature=None, top_p=None, frequency_penalty=None, presence_penalty=None, tool_choice=None, parallel_tool_calls=None, truncation=None, max_tokens=None, reasoning=None, metadata=None, store=None, include_usage=None, extra_query=None, extra_body=None, extra_headers=None, extra_args=None), tools=[], mcp_servers=[], mcp_config={}, input_guardrails=[], output_guardrails=[], output_type=None, hooks=None, tool_use_behavior='run_llm_again', reset_tool_choice=True)), RunResult(input='Write a cold sales email', new_items=[MessageOutputItem(agent=Agent(name='Busy Sales Agent', instructions='You are a busy sales agent working for ComplAI, a company that provides a SaaS tool for ensuring SOC2 compliance and preparing for audits, powered by AI. You write concise, to the point cold emails.', prompt=None, handoff_description=None, handoffs=[], model='gpt-4o-mini', model_settings=ModelSettings(temperature=None, top_p=None, frequency_penalty=None, presence_penalty=None, tool_choice=None, parallel_tool_calls=None, truncation=None, max_tokens=None, reasoning=None, metadata=None, store=None, include_usage=None, extra_query=None, extra_body=None, extra_headers=None, extra_args=None), tools=[], mcp_servers=[], mcp_config={}, input_guardrails=[], output_guardrails=[], output_type=None, hooks=None, tool_use_behavior='run_llm_again', reset_tool_choice=True), raw_item=ResponseOutputMessage(id='msg_6864734fe91c819bab89b7549fcf23dc07ecb7e10a22f467', content=[ResponseOutputText(annotations=[], text=\"Subject: Simplify Your SOC 2 Compliance Process\\n\\nHi [Recipient's Name],\\n\\nI hope this message finds you well! I’m reaching out to introduce ComplAI, a SaaS tool designed to streamline SOC 2 compliance and audit preparation.\\n\\nOur AI-powered platform automates documentation and provides real-time insights, saving you valuable time and reducing the stress of audits.\\n\\nWould you be open to a quick call next week to see how ComplAI can help your team?\\n\\nBest,  \\n[Your Name]  \\n[Your Position]  \\nComplAI  \\n[Your Phone Number]  \\n[Your Website]\", type='output_text', logprobs=[])], role='assistant', status='completed', type='message'), type='message_output_item')], raw_responses=[ModelResponse(output=[ResponseOutputMessage(id='msg_6864734fe91c819bab89b7549fcf23dc07ecb7e10a22f467', content=[ResponseOutputText(annotations=[], text=\"Subject: Simplify Your SOC 2 Compliance Process\\n\\nHi [Recipient's Name],\\n\\nI hope this message finds you well! I’m reaching out to introduce ComplAI, a SaaS tool designed to streamline SOC 2 compliance and audit preparation.\\n\\nOur AI-powered platform automates documentation and provides real-time insights, saving you valuable time and reducing the stress of audits.\\n\\nWould you be open to a quick call next week to see how ComplAI can help your team?\\n\\nBest,  \\n[Your Name]  \\n[Your Position]  \\nComplAI  \\n[Your Phone Number]  \\n[Your Website]\", type='output_text', logprobs=[])], role='assistant', status='completed', type='message')], usage=Usage(requests=1, input_tokens=59, input_tokens_details=InputTokensDetails(cached_tokens=0), output_tokens=120, output_tokens_details=OutputTokensDetails(reasoning_tokens=0), total_tokens=179), response_id='resp_6864734f8664819b9917ae3f3a563b3d07ecb7e10a22f467')], final_output=\"Subject: Simplify Your SOC 2 Compliance Process\\n\\nHi [Recipient's Name],\\n\\nI hope this message finds you well! I’m reaching out to introduce ComplAI, a SaaS tool designed to streamline SOC 2 compliance and audit preparation.\\n\\nOur AI-powered platform automates documentation and provides real-time insights, saving you valuable time and reducing the stress of audits.\\n\\nWould you be open to a quick call next week to see how ComplAI can help your team?\\n\\nBest,  \\n[Your Name]  \\n[Your Position]  \\nComplAI  \\n[Your Phone Number]  \\n[Your Website]\", input_guardrail_results=[], output_guardrail_results=[], context_wrapper=RunContextWrapper(context=None, usage=Usage(requests=1, input_tokens=59, input_tokens_details=InputTokensDetails(cached_tokens=0), output_tokens=120, output_tokens_details=OutputTokensDetails(reasoning_tokens=0), total_tokens=179)), _last_agent=Agent(name='Busy Sales Agent', instructions='You are a busy sales agent working for ComplAI, a company that provides a SaaS tool for ensuring SOC2 compliance and preparing for audits, powered by AI. You write concise, to the point cold emails.', prompt=None, handoff_description=None, handoffs=[], model='gpt-4o-mini', model_settings=ModelSettings(temperature=None, top_p=None, frequency_penalty=None, presence_penalty=None, tool_choice=None, parallel_tool_calls=None, truncation=None, max_tokens=None, reasoning=None, metadata=None, store=None, include_usage=None, extra_query=None, extra_body=None, extra_headers=None, extra_args=None), tools=[], mcp_servers=[], mcp_config={}, input_guardrails=[], output_guardrails=[], output_type=None, hooks=None, tool_use_behavior='run_llm_again', reset_tool_choice=True))]\n"
     ]
    }
   ],
   "source": [
    "print(results)"
   ]
  },
  {
   "cell_type": "code",
   "execution_count": 15,
   "metadata": {},
   "outputs": [],
   "source": [
    "sales_picker = Agent(\n",
    "    name=\"sales_picker\",\n",
    "    instructions=\"You pick the best cold sales email from the given options. \\\n",
    "Imagine you are a customer and pick the one you are most likely to respond to. \\\n",
    "Do not give an explanation; reply with the selected email only.\",\n",
    "    model=\"gpt-4o-mini\"\n",
    ")"
   ]
  },
  {
   "cell_type": "code",
   "execution_count": 16,
   "metadata": {},
   "outputs": [
    {
     "name": "stdout",
     "output_type": "stream",
     "text": [
      "Best sales email:\n",
      "Subject: Simplify Your SOC 2 Compliance and Audit Preparation\n",
      "\n",
      "Hi [Recipient's Name],\n",
      "\n",
      "I hope this message finds you well.\n",
      "\n",
      "Navigating the complexities of SOC 2 compliance can be a daunting task, often involving extensive documentation and frequent auditing cycles. At ComplAI, we empower organizations like yours to streamline this process with our AI-driven SaaS tool designed specifically for SOC 2 compliance.\n",
      "\n",
      "With ComplAI, you can expect:\n",
      "\n",
      "- **Automated Documentation**: Generate and manage compliance documents effortlessly.\n",
      "- **Real-time Monitoring**: Stay aligned with evolving standards and regulations.\n",
      "- **Audit Preparation**: Simplify interactions with auditors, reducing the burden on your team.\n",
      "\n",
      "By leveraging our tool, many clients have significantly reduced the time spent on compliance activities, freeing them to focus on their core business objectives.\n",
      "\n",
      "I would love to schedule a brief call to discuss how ComplAI can support [Company Name] in achieving and maintaining SOC 2 compliance. Please let me know a convenient time for you.\n",
      "\n",
      "Looking forward to your reply.\n",
      "\n",
      "Best regards,\n",
      "\n",
      "[Your Name]  \n",
      "[Your Position]  \n",
      "ComplAI  \n",
      "[Your Phone Number]  \n",
      "[Your Email]  \n",
      "[Your Website]  \n"
     ]
    }
   ],
   "source": [
    "message = \"Write a cold sales email\"\n",
    "\n",
    "with trace(\"Selection from sales people\"):\n",
    "    results = await asyncio.gather(\n",
    "        Runner.run(sales_agent1, message),\n",
    "        Runner.run(sales_agent2, message),\n",
    "        Runner.run(sales_agent3, message),\n",
    "    )\n",
    "    outputs = [result.final_output for result in results]\n",
    "\n",
    "    emails = \"Cold sales emails:\\n\\n\".join(outputs)\n",
    "\n",
    "    best = await Runner.run(sales_picker, emails)\n",
    "\n",
    "    print(f\"Best sales email:\\n{best.final_output}\")\n"
   ]
  },
  {
   "cell_type": "markdown",
   "metadata": {},
   "source": [
    "Now go and check out the trace:\n",
    "\n",
    "https://platform.openai.com/traces"
   ]
  },
  {
   "cell_type": "markdown",
   "metadata": {},
   "source": [
    "## Part 2: use of tools\n",
    "\n",
    "Now we will add a tool to the mix.\n",
    "\n",
    "Remember all that json boilerplate and the `handle_tool_calls()` function with the if logic.."
   ]
  },
  {
   "cell_type": "code",
   "execution_count": 21,
   "metadata": {},
   "outputs": [],
   "source": [
    "sales_agent1 = Agent(\n",
    "        name=\"Professional Sales Agent\",\n",
    "        instructions=instructions1,\n",
    "        model=\"gpt-4o-mini\",\n",
    ")\n",
    "\n",
    "sales_agent2 = Agent(\n",
    "        name=\"Engaging Sales Agent\",\n",
    "        instructions=instructions2,\n",
    "        model=\"gpt-4o-mini\",\n",
    ")\n",
    "\n",
    "sales_agent3 = Agent(\n",
    "        name=\"Busy Sales Agent\",\n",
    "        instructions=instructions3,\n",
    "        model=\"gpt-4o-mini\",\n",
    ")"
   ]
  },
  {
   "cell_type": "code",
   "execution_count": 22,
   "metadata": {},
   "outputs": [
    {
     "data": {
      "text/plain": [
       "Agent(name='Professional Sales Agent', instructions='You are a sales agent working for ComplAI, a company that provides a SaaS tool for ensuring SOC2 compliance and preparing for audits, powered by AI. You write professional, serious cold emails.', prompt=None, handoff_description=None, handoffs=[], model='gpt-4o-mini', model_settings=ModelSettings(temperature=None, top_p=None, frequency_penalty=None, presence_penalty=None, tool_choice=None, parallel_tool_calls=None, truncation=None, max_tokens=None, reasoning=None, metadata=None, store=None, include_usage=None, extra_query=None, extra_body=None, extra_headers=None, extra_args=None), tools=[], mcp_servers=[], mcp_config={}, input_guardrails=[], output_guardrails=[], output_type=None, hooks=None, tool_use_behavior='run_llm_again', reset_tool_choice=True)"
      ]
     },
     "execution_count": 22,
     "metadata": {},
     "output_type": "execute_result"
    }
   ],
   "source": [
    "sales_agent1"
   ]
  },
  {
   "cell_type": "markdown",
   "metadata": {},
   "source": [
    "## Steps 2 and 3: Tools and Agent interactions\n",
    "\n",
    "Remember all that boilerplate json?\n",
    "\n",
    "Simply wrap your function with the decorator `@function_tool`"
   ]
  },
  {
   "cell_type": "code",
   "execution_count": 23,
   "metadata": {},
   "outputs": [],
   "source": [
    "@function_tool\n",
    "def send_email(body: str):\n",
    "    \"\"\" Send out an email with the given body to all sales prospects \"\"\"\n",
    "    sg = sendgrid.SendGridAPIClient(api_key=os.environ.get('SENDGRID_API_KEY'))\n",
    "    from_email = Email(\"harishjmhss@gmail.com\")  # Change to your verified sender\n",
    "    to_email = To(\"harishneyveli96@gmail.com\")  # Change to your recipient\n",
    "    content = Content(\"text/plain\", body)\n",
    "    mail = Mail(from_email, to_email, \"Sales email\", content).get()\n",
    "    sg.client.mail.send.post(request_body=mail)\n",
    "    return {\"status\": \"success\"}"
   ]
  },
  {
   "cell_type": "markdown",
   "metadata": {},
   "source": [
    "### This has automatically been converted into a tool, with the boilerplate json created"
   ]
  },
  {
   "cell_type": "code",
   "execution_count": 24,
   "metadata": {},
   "outputs": [
    {
     "data": {
      "text/plain": [
       "FunctionTool(name='send_email', description='Send out an email with the given body to all sales prospects', params_json_schema={'properties': {'body': {'title': 'Body', 'type': 'string'}}, 'required': ['body'], 'title': 'send_email_args', 'type': 'object', 'additionalProperties': False}, on_invoke_tool=<function function_tool.<locals>._create_function_tool.<locals>._on_invoke_tool at 0x7eff5cba8e00>, strict_json_schema=True, is_enabled=True)"
      ]
     },
     "execution_count": 24,
     "metadata": {},
     "output_type": "execute_result"
    }
   ],
   "source": [
    "# Let's look at it\n",
    "send_email"
   ]
  },
  {
   "cell_type": "markdown",
   "metadata": {},
   "source": [
    "### And you can also convert an Agent into a tool"
   ]
  },
  {
   "cell_type": "code",
   "execution_count": 25,
   "metadata": {},
   "outputs": [
    {
     "data": {
      "text/plain": [
       "FunctionTool(name='sales_agent1', description='Write a cold sales email', params_json_schema={'properties': {'input': {'title': 'Input', 'type': 'string'}}, 'required': ['input'], 'title': 'sales_agent1_args', 'type': 'object', 'additionalProperties': False}, on_invoke_tool=<function function_tool.<locals>._create_function_tool.<locals>._on_invoke_tool at 0x7eff472b8b80>, strict_json_schema=True, is_enabled=True)"
      ]
     },
     "execution_count": 25,
     "metadata": {},
     "output_type": "execute_result"
    }
   ],
   "source": [
    "tool1 = sales_agent1.as_tool(tool_name=\"sales_agent1\", tool_description=\"Write a cold sales email\")\n",
    "tool1"
   ]
  },
  {
   "cell_type": "markdown",
   "metadata": {},
   "source": [
    "### So now we can gather all the tools together:\n",
    "\n",
    "A tool for each of our 3 email-writing agents\n",
    "\n",
    "And a tool for our function to send emails"
   ]
  },
  {
   "cell_type": "code",
   "execution_count": 26,
   "metadata": {},
   "outputs": [
    {
     "data": {
      "text/plain": [
       "[FunctionTool(name='sales_agent1', description='Write a cold sales email', params_json_schema={'properties': {'input': {'title': 'Input', 'type': 'string'}}, 'required': ['input'], 'title': 'sales_agent1_args', 'type': 'object', 'additionalProperties': False}, on_invoke_tool=<function function_tool.<locals>._create_function_tool.<locals>._on_invoke_tool at 0x7eff47b17e20>, strict_json_schema=True, is_enabled=True),\n",
       " FunctionTool(name='sales_agent2', description='Write a cold sales email', params_json_schema={'properties': {'input': {'title': 'Input', 'type': 'string'}}, 'required': ['input'], 'title': 'sales_agent2_args', 'type': 'object', 'additionalProperties': False}, on_invoke_tool=<function function_tool.<locals>._create_function_tool.<locals>._on_invoke_tool at 0x7eff5c95a020>, strict_json_schema=True, is_enabled=True),\n",
       " FunctionTool(name='sales_agent3', description='Write a cold sales email', params_json_schema={'properties': {'input': {'title': 'Input', 'type': 'string'}}, 'required': ['input'], 'title': 'sales_agent3_args', 'type': 'object', 'additionalProperties': False}, on_invoke_tool=<function function_tool.<locals>._create_function_tool.<locals>._on_invoke_tool at 0x7eff74136520>, strict_json_schema=True, is_enabled=True),\n",
       " FunctionTool(name='send_email', description='Send out an email with the given body to all sales prospects', params_json_schema={'properties': {'body': {'title': 'Body', 'type': 'string'}}, 'required': ['body'], 'title': 'send_email_args', 'type': 'object', 'additionalProperties': False}, on_invoke_tool=<function function_tool.<locals>._create_function_tool.<locals>._on_invoke_tool at 0x7eff5cba8e00>, strict_json_schema=True, is_enabled=True)]"
      ]
     },
     "execution_count": 26,
     "metadata": {},
     "output_type": "execute_result"
    }
   ],
   "source": [
    "description = \"Write a cold sales email\"\n",
    "\n",
    "tool1 = sales_agent1.as_tool(tool_name=\"sales_agent1\", tool_description=description)\n",
    "tool2 = sales_agent2.as_tool(tool_name=\"sales_agent2\", tool_description=description)\n",
    "tool3 = sales_agent3.as_tool(tool_name=\"sales_agent3\", tool_description=description)\n",
    "\n",
    "tools = [tool1, tool2, tool3, send_email]\n",
    "\n",
    "tools"
   ]
  },
  {
   "cell_type": "markdown",
   "metadata": {},
   "source": [
    "## And now it's time for our Sales Manager - our planning agent"
   ]
  },
  {
   "cell_type": "code",
   "execution_count": 27,
   "metadata": {},
   "outputs": [],
   "source": [
    "instructions =\"You are a sales manager working for ComplAI. You use the tools given to you to generate cold sales emails. \\\n",
    "You never generate sales emails yourself; you always use the tools. \\\n",
    "You try all 3 sales_agent tools once before choosing the best one. \\\n",
    "You pick the single best email and use the send_email tool to send the best email (and only the best email) to the user.\"\n",
    "\n",
    "\n",
    "sales_manager = Agent(name=\"Sales Manager\", instructions=instructions, tools=tools, model=\"gpt-4o-mini\")\n",
    "\n",
    "message = \"Send a cold sales email addressed to 'Dear CEO'\"\n",
    "\n",
    "with trace(\"Sales manager\"):\n",
    "    result = await Runner.run(sales_manager, message)"
   ]
  },
  {
   "cell_type": "markdown",
   "metadata": {},
   "source": [
    "<table style=\"margin: 0; text-align: left; width:100%\">\n",
    "    <tr>\n",
    "        <td style=\"width: 150px; height: 150px; vertical-align: middle;\">\n",
    "            <img src=\"../assets/stop.png\" width=\"150\" height=\"150\" style=\"display: block;\" />\n",
    "        </td>\n",
    "        <td>\n",
    "            <h2 style=\"color:#ff7800;\">Wait - you didn't get an email??</h2>\n",
    "            <span style=\"color:#ff7800;\">With much thanks to student Chris S. for describing his issue and fixes. \n",
    "            If you don't receive an email after running the prior cell, here are some things to check: <br/>\n",
    "            First, check your Spam folder! Several students have missed that the emails arrived in Spam!<br/>Second, print(result) and see if you are receiving errors about SSL. \n",
    "            If you're receiving SSL errors, then please check out theses <a href=\"https://chatgpt.com/share/680620ec-3b30-8012-8c26-ca86693d0e3d\">networking tips</a> and see the note in the next cell. Also look at the trace in OpenAI, and investigate on the SendGrid website, to hunt for clues. Let me know if I can help!\n",
    "            </span>\n",
    "        </td>\n",
    "    </tr>\n",
    "</table>"
   ]
  },
  {
   "cell_type": "markdown",
   "metadata": {},
   "source": [
    "### And one more suggestion to send emails from student Oleksandr on Windows 11:\n",
    "\n",
    "If you are getting certificate SSL errors, then:  \n",
    "Run this in a terminal: `uv pip install --upgrade certifi`\n",
    "\n",
    "Then run this code:\n",
    "```python\n",
    "import certifi\n",
    "import os\n",
    "os.environ['SSL_CERT_FILE'] = certifi.where()\n",
    "```\n",
    "\n",
    "Thank you Oleksandr!"
   ]
  },
  {
   "cell_type": "markdown",
   "metadata": {},
   "source": [
    "## Remember to check the trace\n",
    "\n",
    "https://platform.openai.com/traces\n",
    "\n",
    "And then check your email!!\n"
   ]
  },
  {
   "cell_type": "markdown",
   "metadata": {},
   "source": [
    "### Handoffs represent a way an agent can delegate to an agent, passing control to it\n",
    "\n",
    "Handoffs and Agents-as-tools are similar:\n",
    "\n",
    "In both cases, an Agent can collaborate with another Agent\n",
    "\n",
    "With tools, control passes back\n",
    "\n",
    "With handoffs, control passes across\n",
    "\n"
   ]
  },
  {
   "cell_type": "code",
   "execution_count": 28,
   "metadata": {},
   "outputs": [],
   "source": [
    "\n",
    "subject_instructions = \"You can write a subject for a cold sales email. \\\n",
    "You are given a message and you need to write a subject for an email that is likely to get a response.\"\n",
    "\n",
    "html_instructions = \"You can convert a text email body to an HTML email body. \\\n",
    "You are given a text email body which might have some markdown \\\n",
    "and you need to convert it to an HTML email body with simple, clear, compelling layout and design.\"\n",
    "\n",
    "subject_writer = Agent(name=\"Email subject writer\", instructions=subject_instructions, model=\"gpt-4o-mini\")\n",
    "subject_tool = subject_writer.as_tool(tool_name=\"subject_writer\", tool_description=\"Write a subject for a cold sales email\")\n",
    "\n",
    "html_converter = Agent(name=\"HTML email body converter\", instructions=html_instructions, model=\"gpt-4o-mini\")\n",
    "html_tool = html_converter.as_tool(tool_name=\"html_converter\",tool_description=\"Convert a text email body to an HTML email body\")\n"
   ]
  },
  {
   "cell_type": "code",
   "execution_count": 29,
   "metadata": {},
   "outputs": [],
   "source": [
    "@function_tool\n",
    "def send_html_email(subject: str, html_body: str) -> Dict[str, str]:\n",
    "    \"\"\" Send out an email with the given subject and HTML body to all sales prospects \"\"\"\n",
    "    sg = sendgrid.SendGridAPIClient(api_key=os.environ.get('SENDGRID_API_KEY'))\n",
    "    from_email = Email(\"harishjmhss@gmail.com\")  # Change to your verified sender\n",
    "    to_email = To(\"harishneyveli96@gmail.com\")  # Change to your recipient\n",
    "    content = Content(\"text/html\", html_body)\n",
    "    mail = Mail(from_email, to_email, subject, content).get()\n",
    "    sg.client.mail.send.post(request_body=mail)\n",
    "    return {\"status\": \"success\"}"
   ]
  },
  {
   "cell_type": "code",
   "execution_count": 30,
   "metadata": {},
   "outputs": [],
   "source": [
    "tools = [subject_tool, html_tool, send_html_email]"
   ]
  },
  {
   "cell_type": "code",
   "execution_count": null,
   "metadata": {},
   "outputs": [],
   "source": [
    "tools"
   ]
  },
  {
   "cell_type": "code",
   "execution_count": 21,
   "metadata": {},
   "outputs": [],
   "source": [
    "instructions =\"You are an email formatter and sender. You receive the body of an email to be sent. \\\n",
    "You first use the subject_writer tool to write a subject for the email, then use the html_converter tool to convert the body to HTML. \\\n",
    "Finally, you use the send_html_email tool to send the email with the subject and HTML body.\"\n",
    "\n",
    "\n",
    "emailer_agent = Agent(\n",
    "    name=\"Email Manager\",\n",
    "    instructions=instructions,\n",
    "    tools=tools,\n",
    "    model=\"gpt-4o-mini\",\n",
    "    handoff_description=\"Convert an email to HTML and send it\")\n"
   ]
  },
  {
   "cell_type": "markdown",
   "metadata": {},
   "source": [
    "### Now we have 3 tools and 1 handoff"
   ]
  },
  {
   "cell_type": "code",
   "execution_count": null,
   "metadata": {},
   "outputs": [],
   "source": [
    "tools = [tool1, tool2, tool3]\n",
    "handoffs = [emailer_agent]\n",
    "print(tools)\n",
    "print(handoffs)"
   ]
  },
  {
   "cell_type": "code",
   "execution_count": 24,
   "metadata": {},
   "outputs": [],
   "source": [
    "sales_manager_instructions = \"You are a sales manager working for ComplAI. You use the tools given to you to generate cold sales emails. \\\n",
    "You never generate sales emails yourself; you always use the tools. \\\n",
    "You try all 3 sales agent tools at least once before choosing the best one. \\\n",
    "You can use the tools multiple times if you're not satisfied with the results from the first try. \\\n",
    "You select the single best email using your own judgement of which email will be most effective. \\\n",
    "After picking the email, you handoff to the Email Manager agent to format and send the email.\"\n",
    "\n",
    "\n",
    "sales_manager = Agent(\n",
    "    name=\"Sales Manager\",\n",
    "    instructions=sales_manager_instructions,\n",
    "    tools=tools,\n",
    "    handoffs=handoffs,\n",
    "    model=\"gpt-4o-mini\")\n",
    "\n",
    "message = \"Send out a cold sales email addressed to Dear CEO from Alice\"\n",
    "\n",
    "with trace(\"Automated SDR\"):\n",
    "    result = await Runner.run(sales_manager, message)"
   ]
  },
  {
   "cell_type": "markdown",
   "metadata": {},
   "source": [
    "### Remember to check the trace\n",
    "\n",
    "https://platform.openai.com/traces\n",
    "\n",
    "And then check your email!!"
   ]
  },
  {
   "cell_type": "markdown",
   "metadata": {},
   "source": [
    "<table style=\"margin: 0; text-align: left; width:100%\">\n",
    "    <tr>\n",
    "        <td style=\"width: 150px; height: 150px; vertical-align: middle;\">\n",
    "            <img src=\"../assets/exercise.png\" width=\"150\" height=\"150\" style=\"display: block;\" />\n",
    "        </td>\n",
    "        <td>\n",
    "            <h2 style=\"color:#ff7800;\">Exercise</h2>\n",
    "            <span style=\"color:#ff7800;\">Can you identify the Agentic design patterns that were used here?<br/>\n",
    "            What is the 1 line that changed this from being an Agentic \"workflow\" to \"agent\" under Anthropic's definition?<br/>\n",
    "            Try adding in more tools and Agents! You could have tools that handle the mail merge to send to a list.<br/><br/>\n",
    "            HARD CHALLENGE: research how you can have SendGrid call a Callback webhook when a user replies to an email,\n",
    "            Then have the SDR respond to keep the conversation going! This may require some \"vibe coding\" 😂\n",
    "            </span>\n",
    "        </td>\n",
    "    </tr>\n",
    "</table>"
   ]
  },
  {
   "cell_type": "markdown",
   "metadata": {},
   "source": [
    "<table style=\"margin: 0; text-align: left; width:100%\">\n",
    "    <tr>\n",
    "        <td style=\"width: 150px; height: 150px; vertical-align: middle;\">\n",
    "            <img src=\"../assets/business.png\" width=\"150\" height=\"150\" style=\"display: block;\" />\n",
    "        </td>\n",
    "        <td>\n",
    "            <h2 style=\"color:#00bfff;\">Commercial implications</h2>\n",
    "            <span style=\"color:#00bfff;\">This is immediately applicable to Sales Automation; but more generally this could be applied to  end-to-end automation of any business process through conversations and tools. Think of ways you could apply an Agent solution\n",
    "            like this in your day job.\n",
    "            </span>\n",
    "        </td>\n",
    "    </tr>\n",
    "</table>"
   ]
  },
  {
   "cell_type": "markdown",
   "metadata": {},
   "source": [
    "## Extra note:\n",
    "\n",
    "Google has released their Agent Development Kit (ADK). It's not yet got the traction of the other frameworks on this course, but it's getting some attention. It's interesting to note that it looks quite similar to OpenAI Agents SDK. To give you a preview, here's a peak at sample code from ADK:\n",
    "\n",
    "```\n",
    "root_agent = Agent(\n",
    "    name=\"weather_time_agent\",\n",
    "    model=\"gemini-2.0-flash\",\n",
    "    description=\"Agent to answer questions about the time and weather in a city.\",\n",
    "    instruction=\"You are a helpful agent who can answer user questions about the time and weather in a city.\",\n",
    "    tools=[get_weather, get_current_time]\n",
    ")\n",
    "```\n",
    "\n",
    "Well, that looks familiar!\n",
    "\n",
    "And a student has contributed a customer care agent in community_contributions that uses ADK."
   ]
  },
  {
   "cell_type": "markdown",
   "metadata": {},
   "source": []
  }
 ],
 "metadata": {
  "kernelspec": {
   "display_name": ".venv",
   "language": "python",
   "name": "python3"
  },
  "language_info": {
   "codemirror_mode": {
    "name": "ipython",
    "version": 3
   },
   "file_extension": ".py",
   "mimetype": "text/x-python",
   "name": "python",
   "nbconvert_exporter": "python",
   "pygments_lexer": "ipython3",
   "version": "3.12.11"
  }
 },
 "nbformat": 4,
 "nbformat_minor": 2
}
