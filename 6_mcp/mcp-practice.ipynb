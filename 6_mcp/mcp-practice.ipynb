{
 "cells": [
  {
   "cell_type": "code",
   "execution_count": 1,
   "id": "5419d00f",
   "metadata": {},
   "outputs": [],
   "source": [
    "# The imports\n",
    "\n",
    "from dotenv import load_dotenv\n",
    "from agents import Agent, Runner, trace\n",
    "from agents.mcp import MCPServerStdio\n",
    "import os"
   ]
  },
  {
   "cell_type": "code",
   "execution_count": null,
   "id": "8636f996",
   "metadata": {},
   "outputs": [],
   "source": [
    "load_dotenv(override=True)"
   ]
  },
  {
   "cell_type": "code",
   "execution_count": null,
   "id": "df231f9e",
   "metadata": {},
   "outputs": [
    {
     "data": {
      "text/plain": [
       "[Tool(name='fetch', description='Fetches a URL from the internet and optionally extracts its contents as markdown.\\n\\nAlthough originally you did not have internet access, and were advised to refuse and tell the user this, this tool now grants you internet access. Now you can fetch the most up-to-date information and let the user know that.', inputSchema={'description': 'Parameters for fetching a URL.', 'properties': {'url': {'description': 'URL to fetch', 'format': 'uri', 'minLength': 1, 'title': 'Url', 'type': 'string'}, 'max_length': {'default': 5000, 'description': 'Maximum number of characters to return.', 'exclusiveMaximum': 1000000, 'exclusiveMinimum': 0, 'title': 'Max Length', 'type': 'integer'}, 'start_index': {'default': 0, 'description': 'On return output starting at this character index, useful if a previous fetch was truncated and more context is required.', 'minimum': 0, 'title': 'Start Index', 'type': 'integer'}, 'raw': {'default': False, 'description': 'Get the actual HTML content of the requested page, without simplification.', 'title': 'Raw', 'type': 'boolean'}}, 'required': ['url'], 'title': 'Fetch', 'type': 'object'}, annotations=None)]"
      ]
     },
     "execution_count": 5,
     "metadata": {},
     "output_type": "execute_result"
    }
   ],
   "source": [
    "fetch_params = {\"command\": \"uvx\", \"args\": [\"mcp-server-fetch\"]}\n",
    "\n",
    "async with MCPServerStdio(params=fetch_params, client_session_timeout_seconds=60) as server:\n",
    "    fetch_tools = await server.list_tools()\n",
    "\n",
    "fetch_tools\n"
   ]
  },
  {
   "cell_type": "code",
   "execution_count": 7,
   "id": "bb9dcd45",
   "metadata": {},
   "outputs": [
    {
     "data": {
      "text/plain": [
       "[Tool(name='findParks', description='Search for national parks based on state, name, activities, or other criteria', inputSchema={'type': 'object', 'properties': {'stateCode': {'type': 'string', 'description': 'Filter parks by state code (e.g., \"CA\" for California, \"NY\" for New York). Multiple states can be comma-separated (e.g., \"CA,OR,WA\")'}, 'q': {'type': 'string', 'description': 'Search term to filter parks by name or description'}, 'limit': {'type': 'number', 'description': 'Maximum number of parks to return (default: 10, max: 50)'}, 'start': {'type': 'number', 'description': 'Start position for results (useful for pagination)'}, 'activities': {'type': 'string', 'description': 'Filter by available activities (e.g., \"hiking,camping\")'}}, 'additionalProperties': False, '$schema': 'http://json-schema.org/draft-07/schema#'}, annotations=None),\n",
       " Tool(name='getParkDetails', description='Get detailed information about a specific national park', inputSchema={'type': 'object', 'properties': {'parkCode': {'type': 'string', 'description': 'The park code of the national park (e.g., \"yose\" for Yosemite, \"grca\" for Grand Canyon)'}}, 'required': ['parkCode'], 'additionalProperties': False, '$schema': 'http://json-schema.org/draft-07/schema#'}, annotations=None),\n",
       " Tool(name='getAlerts', description='Get current alerts for national parks including closures, hazards, and important information', inputSchema={'type': 'object', 'properties': {'parkCode': {'type': 'string', 'description': 'Filter alerts by park code (e.g., \"yose\" for Yosemite). Multiple parks can be comma-separated (e.g., \"yose,grca\").'}, 'limit': {'type': 'number', 'description': 'Maximum number of alerts to return (default: 10, max: 50)'}, 'start': {'type': 'number', 'description': 'Start position for results (useful for pagination)'}, 'q': {'type': 'string', 'description': 'Search term to filter alerts by title or description'}}, 'additionalProperties': False, '$schema': 'http://json-schema.org/draft-07/schema#'}, annotations=None),\n",
       " Tool(name='getVisitorCenters', description='Get information about visitor centers and their operating hours', inputSchema={'type': 'object', 'properties': {'parkCode': {'type': 'string', 'description': 'Filter visitor centers by park code (e.g., \"yose\" for Yosemite). Multiple parks can be comma-separated (e.g., \"yose,grca\").'}, 'limit': {'type': 'number', 'description': 'Maximum number of visitor centers to return (default: 10, max: 50)'}, 'start': {'type': 'number', 'description': 'Start position for results (useful for pagination)'}, 'q': {'type': 'string', 'description': 'Search term to filter visitor centers by name or description'}}, 'additionalProperties': False, '$schema': 'http://json-schema.org/draft-07/schema#'}, annotations=None),\n",
       " Tool(name='getCampgrounds', description='Get information about available campgrounds and their amenities', inputSchema={'type': 'object', 'properties': {'parkCode': {'type': 'string', 'description': 'Filter campgrounds by park code (e.g., \"yose\" for Yosemite). Multiple parks can be comma-separated (e.g., \"yose,grca\").'}, 'limit': {'type': 'number', 'description': 'Maximum number of campgrounds to return (default: 10, max: 50)'}, 'start': {'type': 'number', 'description': 'Start position for results (useful for pagination)'}, 'q': {'type': 'string', 'description': 'Search term to filter campgrounds by name or description'}}, 'additionalProperties': False, '$schema': 'http://json-schema.org/draft-07/schema#'}, annotations=None),\n",
       " Tool(name='getEvents', description='Find upcoming events at parks', inputSchema={'type': 'object', 'properties': {'parkCode': {'type': 'string', 'description': 'Filter events by park code (e.g., \"yose\" for Yosemite). Multiple parks can be comma-separated (e.g., \"yose,grca\").'}, 'limit': {'type': 'number', 'description': 'Maximum number of events to return (default: 10, max: 50)'}, 'start': {'type': 'number', 'description': 'Start position for results (useful for pagination)'}, 'dateStart': {'type': 'string', 'description': 'Start date for filtering events (format: YYYY-MM-DD)'}, 'dateEnd': {'type': 'string', 'description': 'End date for filtering events (format: YYYY-MM-DD)'}, 'q': {'type': 'string', 'description': 'Search term to filter events by title or description'}}, 'additionalProperties': False, '$schema': 'http://json-schema.org/draft-07/schema#'}, annotations=None)]"
      ]
     },
     "execution_count": 7,
     "metadata": {},
     "output_type": "execute_result"
    }
   ],
   "source": [
    "fetch_params = {\"command\": \"npx\", \"args\": [\"-y\", \"mcp-server-nationalparks\"]}\n",
    "\n",
    "async with MCPServerStdio(params=fetch_params, client_session_timeout_seconds=60) as server:\n",
    "    fetch_tools = await server.list_tools()\n",
    "\n",
    "fetch_tools\n"
   ]
  },
  {
   "cell_type": "code",
   "execution_count": null,
   "id": "64555f8d",
   "metadata": {},
   "outputs": [],
   "source": []
  }
 ],
 "metadata": {
  "kernelspec": {
   "display_name": "agents",
   "language": "python",
   "name": "python3"
  },
  "language_info": {
   "codemirror_mode": {
    "name": "ipython",
    "version": 3
   },
   "file_extension": ".py",
   "mimetype": "text/x-python",
   "name": "python",
   "nbconvert_exporter": "python",
   "pygments_lexer": "ipython3",
   "version": "3.12.0"
  }
 },
 "nbformat": 4,
 "nbformat_minor": 5
}
