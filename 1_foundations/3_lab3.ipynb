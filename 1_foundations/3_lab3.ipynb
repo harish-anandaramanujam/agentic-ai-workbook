{
 "cells": [
  {
   "cell_type": "markdown",
   "metadata": {},
   "source": [
    "## Welcome to Lab 3 for Week 1 Day 4\n",
    "\n",
    "Today we're going to build something with immediate value!\n",
    "\n",
    "In the folder `me` I've put a single file `linkedin.pdf` - it's a PDF download of my LinkedIn profile.\n",
    "\n",
    "Please replace it with yours!\n",
    "\n",
    "I've also made a file called `summary.txt`\n",
    "\n",
    "We're not going to use Tools just yet - we're going to add the tool tomorrow."
   ]
  },
  {
   "cell_type": "markdown",
   "metadata": {},
   "source": [
    "<table style=\"margin: 0; text-align: left; width:100%\">\n",
    "    <tr>\n",
    "        <td style=\"width: 150px; height: 150px; vertical-align: middle;\">\n",
    "            <img src=\"../assets/tools.png\" width=\"150\" height=\"150\" style=\"display: block;\" />\n",
    "        </td>\n",
    "        <td>\n",
    "            <h2 style=\"color:#00bfff;\">Looking up packages</h2>\n",
    "            <span style=\"color:#00bfff;\">In this lab, we're going to use the wonderful Gradio package for building quick UIs, \n",
    "            and we're also going to use the popular PyPDF PDF reader. You can get guides to these packages by asking \n",
    "            ChatGPT or Claude, and you find all open-source packages on the repository <a href=\"https://pypi.org\">https://pypi.org</a>.\n",
    "            </span>\n",
    "        </td>\n",
    "    </tr>\n",
    "</table>"
   ]
  },
  {
   "cell_type": "code",
   "execution_count": 1,
   "metadata": {},
   "outputs": [],
   "source": [
    "# If you don't know what any of these packages do - you can always ask ChatGPT for a guide!\n",
    "\n",
    "from dotenv import load_dotenv\n",
    "from openai import OpenAI\n",
    "from pypdf import PdfReader\n",
    "import gradio as gr"
   ]
  },
  {
   "cell_type": "code",
   "execution_count": 23,
   "metadata": {},
   "outputs": [],
   "source": [
    "load_dotenv(override=True)\n",
    "openai = OpenAI()"
   ]
  },
  {
   "cell_type": "code",
   "execution_count": 3,
   "metadata": {},
   "outputs": [],
   "source": [
    "reader = PdfReader(\"me/linkedin.pdf\")\n",
    "linkedin = \"\"\n",
    "for page in reader.pages:\n",
    "    text = page.extract_text()\n",
    "    if text:\n",
    "        linkedin += text"
   ]
  },
  {
   "cell_type": "code",
   "execution_count": 4,
   "metadata": {},
   "outputs": [
    {
     "name": "stdout",
     "output_type": "stream",
     "text": [
      "   \n",
      "Contact\n",
      "anandaramanujam.h@husky.neu\n",
      ".edu\n",
      "www.linkedin.com/in/\n",
      "harishanandaramanujam\n",
      "(LinkedIn)\n",
      "Top Skills\n",
      "Continuous Integration and\n",
      "Continuous Delivery (CI/CD)\n",
      "Root Cause Analysis\n",
      "Causal Analysis\n",
      "Languages\n",
      "Tamil (Native or Bilingual)\n",
      "Hindi (Professional Working)\n",
      "Sanskrit (Elementary)\n",
      "English (Full Professional)\n",
      "Certifications\n",
      "Network Developer Group - Linux\n",
      "Essentials\n",
      "Internet of Things\n",
      "Cisco Certified Network Associate\n",
      "Routing and Switching (CCNA)\n",
      "Code Warmers club\n",
      "IEEE Winter School on\n",
      "Computational Intelligence and its\n",
      "applications\n",
      "Honors-Awards\n",
      "Winner  Project Display\n",
      "Solicitude Award\n",
      "YSKBV Award\n",
      "Nominee - Panickker Award\n",
      "Google India Challenge Scholarship\n",
      "Recipient\n",
      "Publications\n",
      "IoT based Control and Management\n",
      "of Thermal Power Plants for Robust\n",
      "Operation\n",
      "IoT in Power Systems\n",
      "Harish Ananda Ramanujam\n",
      "Software Engineer at Viasat Inc.\n",
      "San Diego, California, United States\n",
      "Summary\n",
      "I enjoy bringing in Network Automation and Programmability for\n",
      "Global Infrastructure. I get my hands on design, implementation,\n",
      "testing, deployment, and operating network automation systems. \n",
      "I'm multi-faceted and so like to solve challenging problems by\n",
      "working on non-conventional solutions. \n",
      "Some of the skills that I like to keep me updated are Routing &\n",
      "Switching (BGP, MPLS, OSPF, EVPN, Vxlan, etc), DevOps (CI/\n",
      "CD, Jenkins, Git), Programming (Python, Go, Vuejs), Virtualization\n",
      "(Docker, Kubernetes, OpenStack), Cloud (AWS) and Security\n",
      "(Firewall, Penetration Testing)\n",
      "Experience\n",
      "Viasat Inc.\n",
      "4 years 6 months\n",
      "Software Engineer - II\n",
      "January 2022 - Present (3 years 6 months)\n",
      "Carlsbad, California, United States\n",
      "MLOps, Intent-Based Networking, Self-Driving networks, Network Reliability\n",
      "Engineering\n",
      "Software Engineer\n",
      "January 2021 - January 2022 (1 year 1 month)\n",
      "Carlsbad, California, United States\n",
      "Northeastern University\n",
      "Instructional Assistant\n",
      "September 2020 - December 2020 (4 months)\n",
      "Boston, Massachusetts, United States\n",
      "Global Resilience Institute\n",
      "Security Engineer - Cyber Resilience\n",
      "  Page 1 of 4   \n",
      "January 2020 - December 2020 (1 year)\n",
      "Boston, Massachusetts, United States\n",
      "• Created and maintained VPC on AWS with EC2, ELB, S3, EBS, Route53,\n",
      "Cloud Watch,  Auto Scaling, and Lambda based on the project requirements.\n",
      "• Automated the Replication process using Cloud Formation/Terraform to\n",
      "replicate multiple environments based on client requirements.\n",
      "• Configured MFA server and Microsoft AD to implement 2 step authentication\n",
      "using Duo for AWS Workspace\n",
      "• Hosted Nginix, Open VPN, SIEM and Postfix servers and Managed security\n",
      "groups, Network ACLs for cloud security\n",
      "• Implemented VDI infrastructure using Zero Client over PCoIP in AWS cloud\n",
      "which significantly decreased deployment and scaling time\n",
      "• Evaluated cloud infrastructure against FedRAMP and NIST compliance\n",
      "frameworks. Performed Penetration testing and system hardening of Linux,\n",
      "Windows-based operating systems to ensure system stability and security\n",
      "• Proficient with containerization and orchestration using Docker and\n",
      "Kubernetes\n",
      "• Used Ansible and Ansible Tower as a Configuration management tool to\n",
      "automate repetitive tasks\n",
      "• Analyzed multiple cloud security products and generated a Vendor-\n",
      "comparison matrix with 50+ criteria. This makes it easier for US Electric utility\n",
      "companies and Regulators to make informed decisions on products that meet\n",
      "their security needs.\n",
      "Charles River Development\n",
      "Network Infrastructure Engineer\n",
      "July 2019 - December 2019 (6 months)\n",
      "Burlington, Massachusetts\n",
      "•    Implemented IEEE 802.1x based NAC (Network Access Control) on both\n",
      "wired and wireless networks by defining Roles replicating firewall policies with\n",
      "services and rules for granular control of 3000+ end devices. \n",
      "•   Configured Juniper SRX1500 firewall with Security Zones, Address books,\n",
      "Policies, DHCP pool, NAT/PAT for isolating guest network. \n",
      "•   Configured both policy-based and route-based VPN tunnels for Juniper-\n",
      "Juniper and Juniper-Cisco environments using traffic selectors on SRX1500.\n",
      "•    Configured 60+ Extreme switches (x440, x450, x670) with Stacking, LACP,\n",
      "VLAN, LLDP, ELRP, VOIP, SNMPv3, MLAG, DHCP snooping. \n",
      "•    Designed, Configured and Troubleshooted NAC Engines for Enterprise\n",
      "RADIUS authentication using SSL/TLS Machine Certificates and integrated\n",
      "with Active Directory to set Roles depending upon AD Attributes.\n",
      "  Page 2 of 4   \n",
      "•    Managed AD security groups and enforced required 802.1x LAN/WLAN\n",
      "settings through group policies.\n",
      "•    Monitored and remediated various security vulnerabilities in the network\n",
      "through Access control lists, installed Sophos AV for Firewall, Digital guardian\n",
      "to prevent data theft in Windows systems.\n",
      "•   Diagnosed and Resolved various issues with VLAN, STP, Trunk, and IP\n",
      "subnet issues through a ticketing system.\n",
      "•   Coordinated an Office and Datacenter migration by setting up core network\n",
      "infrastructures - Designed, Configured and Tested the Core switches, SAN\n",
      "networks, Corporate Firewalls, WiFi APs for the new environment well in\n",
      "advance to reduce the downtime.\n",
      "National Institute of Technology Karnataka\n",
      "Software Engineer : Summer Intern\n",
      "May 2017 - July 2017 (3 months)\n",
      "Mangalore Area, India\n",
      "• Developed a proprietary communication protocol to diminish the probability of\n",
      "error and time delay in the data link layer by improving coding techniques with\n",
      "mathematical and programming competency\n",
      "• Integrated and Implemented CRC, Cryptographic Hash functions, ARQ and\n",
      "Hybrid schemes on the internal network infrastructure to analyze data integrity\n",
      "and optimal efficiency and achieved 85% more reliable error-free high-speed\n",
      "data transmission\n",
      "• Created reusable code in python to replicate network environment and\n",
      "automated the configuration process for more than 500 devices. Scripted to\n",
      "apply dynamic ACL on device interfaces.\n",
      "Bharat Sanchar Nigam Limited\n",
      "Under Graduate Intern\n",
      "July 2016 - July 2016 (1 month)\n",
      "Chennai Area, India\n",
      "During my association with BSNL, I was responsible to determine and\n",
      "implement methods, process improvements to enhance network capability\n",
      "and examined load patterns for Chennai (metropolitan city) to increase service\n",
      "yield. I was also responsible for examining the  interoperability of several\n",
      "Internet Security Protocols over VVOIP to void intruders\n",
      "Education\n",
      "Northeastern University\n",
      "  Page 3 of 4   \n",
      "Master of Science - MS, Telecommunciation Networks · (2018 - 2020)\n",
      "Anna University\n",
      "Bachelor of Engineering (B.E.), Electrical and Electronics\n",
      "Engineering · (2014 - 2018)\n",
      "  Page 4 of 4\n"
     ]
    }
   ],
   "source": [
    "print(linkedin)"
   ]
  },
  {
   "cell_type": "code",
   "execution_count": 5,
   "metadata": {},
   "outputs": [],
   "source": [
    "with open(\"me/summary.txt\", \"r\", encoding=\"utf-8\") as f:\n",
    "    summary = f.read()"
   ]
  },
  {
   "cell_type": "code",
   "execution_count": 6,
   "metadata": {},
   "outputs": [],
   "source": [
    "name = \"Harish\""
   ]
  },
  {
   "cell_type": "code",
   "execution_count": 7,
   "metadata": {},
   "outputs": [],
   "source": [
    "system_prompt = f\"You are acting as {name}. You are answering questions on {name}'s website, \\\n",
    "particularly questions related to {name}'s career, background, skills and experience. \\\n",
    "Your responsibility is to represent {name} for interactions on the website as faithfully as possible. \\\n",
    "You are given a summary of {name}'s background and LinkedIn profile which you can use to answer questions. \\\n",
    "Be professional and engaging, as if talking to a potential client or future employer who came across the website. \\\n",
    "If you don't know the answer, say so.\"\n",
    "\n",
    "system_prompt += f\"\\n\\n## Summary:\\n{summary}\\n\\n## LinkedIn Profile:\\n{linkedin}\\n\\n\"\n",
    "system_prompt += f\"With this context, please chat with the user, always staying in character as {name}.\"\n"
   ]
  },
  {
   "cell_type": "code",
   "execution_count": 8,
   "metadata": {},
   "outputs": [
    {
     "data": {
      "text/plain": [
       "\"You are acting as Harish. You are answering questions on Harish's website, particularly questions related to Harish's career, background, skills and experience. Your responsibility is to represent Harish for interactions on the website as faithfully as possible. You are given a summary of Harish's background and LinkedIn profile which you can use to answer questions. Be professional and engaging, as if talking to a potential client or future employer who came across the website. If you don't know the answer, say so.\\n\\n## Summary:\\nMy name is Harish Ananda Ramanujam. I'm a Software Engineer with Viasat. I work on MLOps and Data Engineer projects. I'm from India, but I moved to USA in 2018 for Masters Degree.\\nI love Japanese and Thai restaurants apart from Indian food. I'm still craving for an authentic Indian food in USA after these many years\\n\\n\\n## LinkedIn Profile:\\n\\xa0 \\xa0\\nContact\\nanandaramanujam.h@husky.neu\\n.edu\\nwww.linkedin.com/in/\\nharishanandaramanujam\\n(LinkedIn)\\nTop Skills\\nContinuous Integration and\\nContinuous Delivery (CI/CD)\\nRoot Cause Analysis\\nCausal Analysis\\nLanguages\\nTamil (Native or Bilingual)\\nHindi (Professional Working)\\nSanskrit (Elementary)\\nEnglish (Full Professional)\\nCertifications\\nNetwork Developer Group - Linux\\nEssentials\\nInternet of Things\\nCisco Certified Network Associate\\nRouting and Switching (CCNA)\\nCode Warmers club\\nIEEE Winter School on\\nComputational Intelligence and its\\napplications\\nHonors-Awards\\nWinner  Project Display\\nSolicitude Award\\nYSKBV Award\\nNominee - Panickker Award\\nGoogle India Challenge Scholarship\\nRecipient\\nPublications\\nIoT based Control and Management\\nof Thermal Power Plants for Robust\\nOperation\\nIoT in Power Systems\\nHarish Ananda Ramanujam\\nSoftware Engineer at Viasat Inc.\\nSan Diego, California, United States\\nSummary\\nI enjoy bringing in Network Automation and Programmability for\\nGlobal Infrastructure. I get my hands on design, implementation,\\ntesting, deployment, and operating network automation systems. \\nI'm multi-faceted and so like to solve challenging problems by\\nworking on non-conventional solutions. \\nSome of the skills that I like to keep me updated are Routing &\\nSwitching (BGP, MPLS, OSPF, EVPN, Vxlan, etc), DevOps (CI/\\nCD, Jenkins, Git), Programming (Python, Go, Vuejs), Virtualization\\n(Docker, Kubernetes, OpenStack), Cloud (AWS) and Security\\n(Firewall, Penetration Testing)\\nExperience\\nViasat Inc.\\n4 years 6 months\\nSoftware Engineer - II\\nJanuary 2022\\xa0-\\xa0Present\\xa0(3 years 6 months)\\nCarlsbad, California, United States\\nMLOps, Intent-Based Networking, Self-Driving networks, Network Reliability\\nEngineering\\nSoftware Engineer\\nJanuary 2021\\xa0-\\xa0January 2022\\xa0(1 year 1 month)\\nCarlsbad, California, United States\\nNortheastern University\\nInstructional Assistant\\nSeptember 2020\\xa0-\\xa0December 2020\\xa0(4 months)\\nBoston, Massachusetts, United States\\nGlobal Resilience Institute\\nSecurity Engineer - Cyber Resilience\\n\\xa0 Page 1 of 4\\xa0 \\xa0\\nJanuary 2020\\xa0-\\xa0December 2020\\xa0(1 year)\\nBoston, Massachusetts, United States\\n• Created and maintained VPC on AWS with EC2, ELB, S3, EBS, Route53,\\nCloud Watch,  Auto Scaling, and Lambda based on the project requirements.\\n• Automated the Replication process using Cloud Formation/Terraform to\\nreplicate multiple environments based on client requirements.\\n• Configured MFA server and Microsoft AD to implement 2 step authentication\\nusing Duo for AWS Workspace\\n• Hosted Nginix, Open VPN, SIEM and Postfix servers and Managed security\\ngroups, Network ACLs for cloud security\\n• Implemented VDI infrastructure using Zero Client over PCoIP in AWS cloud\\nwhich significantly decreased deployment and scaling time\\n• Evaluated cloud infrastructure against FedRAMP and NIST compliance\\nframeworks. Performed Penetration testing and system hardening of Linux,\\nWindows-based operating systems to ensure system stability and security\\n• Proficient with containerization and orchestration using Docker and\\nKubernetes\\n• Used Ansible and Ansible Tower as a Configuration management tool to\\nautomate repetitive tasks\\n• Analyzed multiple cloud security products and generated a Vendor-\\ncomparison matrix with 50+ criteria. This makes it easier for US Electric utility\\ncompanies and Regulators to make informed decisions on products that meet\\ntheir security needs.\\nCharles River Development\\nNetwork Infrastructure Engineer\\nJuly 2019\\xa0-\\xa0December 2019\\xa0(6 months)\\nBurlington, Massachusetts\\n•    Implemented IEEE 802.1x based NAC (Network Access Control) on both\\nwired and wireless networks by defining Roles replicating firewall policies with\\nservices and rules for granular control of 3000+ end devices. \\n•   Configured Juniper SRX1500 firewall with Security Zones, Address books,\\nPolicies, DHCP pool, NAT/PAT for isolating guest network. \\n•   Configured both policy-based and route-based VPN tunnels for Juniper-\\nJuniper and Juniper-Cisco environments using traffic selectors on SRX1500.\\n•    Configured 60+ Extreme switches (x440, x450, x670) with Stacking, LACP,\\nVLAN, LLDP, ELRP, VOIP, SNMPv3, MLAG, DHCP snooping. \\n•    Designed, Configured and Troubleshooted NAC Engines for Enterprise\\nRADIUS authentication using SSL/TLS Machine Certificates and integrated\\nwith Active Directory to set Roles depending upon AD Attributes.\\n\\xa0 Page 2 of 4\\xa0 \\xa0\\n•    Managed AD security groups and enforced required 802.1x LAN/WLAN\\nsettings through group policies.\\n•    Monitored and remediated various security vulnerabilities in the network\\nthrough Access control lists, installed Sophos AV for Firewall, Digital guardian\\nto prevent data theft in Windows systems.\\n•   Diagnosed and Resolved various issues with VLAN, STP, Trunk, and IP\\nsubnet issues through a ticketing system.\\n•   Coordinated an Office and Datacenter migration by setting up core network\\ninfrastructures - Designed, Configured and Tested the Core switches, SAN\\nnetworks, Corporate Firewalls, WiFi APs for the new environment well in\\nadvance to reduce the downtime.\\nNational Institute of Technology Karnataka\\nSoftware Engineer : Summer Intern\\nMay 2017\\xa0-\\xa0July 2017\\xa0(3 months)\\nMangalore Area, India\\n• Developed a proprietary communication protocol to diminish the probability of\\nerror and time delay in the data link layer by improving coding techniques with\\nmathematical and programming competency\\n• Integrated and Implemented CRC, Cryptographic Hash functions, ARQ and\\nHybrid schemes on the internal network infrastructure to analyze data integrity\\nand optimal efficiency and achieved 85% more reliable error-free high-speed\\ndata transmission\\n• Created reusable code in python to replicate network environment and\\nautomated the configuration process for more than 500 devices. Scripted to\\napply dynamic ACL on device interfaces.\\nBharat Sanchar Nigam Limited\\nUnder Graduate Intern\\nJuly 2016\\xa0-\\xa0July 2016\\xa0(1 month)\\nChennai Area, India\\nDuring my association with BSNL, I was responsible to determine and\\nimplement methods, process improvements to enhance network capability\\nand examined load patterns for Chennai (metropolitan city) to increase service\\nyield. I was also responsible for examining the  interoperability of several\\nInternet Security Protocols over VVOIP to void intruders\\nEducation\\nNortheastern University\\n\\xa0 Page 3 of 4\\xa0 \\xa0\\nMaster of Science - MS,\\xa0Telecommunciation Networks\\xa0·\\xa0(2018\\xa0-\\xa02020)\\nAnna University\\nBachelor of Engineering (B.E.),\\xa0Electrical and Electronics\\nEngineering\\xa0·\\xa0(2014\\xa0-\\xa02018)\\n\\xa0 Page 4 of 4\\n\\nWith this context, please chat with the user, always staying in character as Harish.\""
      ]
     },
     "execution_count": 8,
     "metadata": {},
     "output_type": "execute_result"
    }
   ],
   "source": [
    "system_prompt"
   ]
  },
  {
   "cell_type": "code",
   "execution_count": 9,
   "metadata": {},
   "outputs": [],
   "source": [
    "def chat(message, history):\n",
    "    messages = [{\"role\": \"system\", \"content\": system_prompt}] + history + [{\"role\": \"user\", \"content\": message}]\n",
    "    response = openai.chat.completions.create(model=\"gpt-4o-mini\", messages=messages)\n",
    "    return response.choices[0].message.content"
   ]
  },
  {
   "cell_type": "code",
   "execution_count": 10,
   "metadata": {},
   "outputs": [
    {
     "name": "stdout",
     "output_type": "stream",
     "text": [
      "* Running on local URL:  http://127.0.0.1:7860\n",
      "* To create a public link, set `share=True` in `launch()`.\n"
     ]
    },
    {
     "data": {
      "text/html": [
       "<div><iframe src=\"http://127.0.0.1:7860/\" width=\"100%\" height=\"500\" allow=\"autoplay; camera; microphone; clipboard-read; clipboard-write;\" frameborder=\"0\" allowfullscreen></iframe></div>"
      ],
      "text/plain": [
       "<IPython.core.display.HTML object>"
      ]
     },
     "metadata": {},
     "output_type": "display_data"
    },
    {
     "data": {
      "text/plain": []
     },
     "execution_count": 10,
     "metadata": {},
     "output_type": "execute_result"
    }
   ],
   "source": [
    "gr.ChatInterface(chat, type=\"messages\").launch()"
   ]
  },
  {
   "cell_type": "markdown",
   "metadata": {},
   "source": [
    "## A lot is about to happen...\n",
    "\n",
    "1. Be able to ask an LLM to evaluate an answer\n",
    "2. Be able to rerun if the answer fails evaluation\n",
    "3. Put this together into 1 workflow\n",
    "\n",
    "All without any Agentic framework!"
   ]
  },
  {
   "cell_type": "code",
   "execution_count": 11,
   "metadata": {},
   "outputs": [],
   "source": [
    "# Create a Pydantic model for the Evaluation\n",
    "\n",
    "from pydantic import BaseModel\n",
    "\n",
    "class Evaluation(BaseModel):\n",
    "    is_acceptable: bool\n",
    "    feedback: str\n"
   ]
  },
  {
   "cell_type": "code",
   "execution_count": 12,
   "metadata": {},
   "outputs": [],
   "source": [
    "evaluator_system_prompt = f\"You are an evaluator that decides whether a response to a question is acceptable. \\\n",
    "You are provided with a conversation between a User and an Agent. Your task is to decide whether the Agent's latest response is acceptable quality. \\\n",
    "The Agent is playing the role of {name} and is representing {name} on their website. \\\n",
    "The Agent has been instructed to be professional and engaging, as if talking to a potential client or future employer who came across the website. \\\n",
    "The Agent has been provided with context on {name} in the form of their summary and LinkedIn details. Here's the information:\"\n",
    "\n",
    "evaluator_system_prompt += f\"\\n\\n## Summary:\\n{summary}\\n\\n## LinkedIn Profile:\\n{linkedin}\\n\\n\"\n",
    "evaluator_system_prompt += f\"With this context, please evaluate the latest response, replying with whether the response is acceptable and your feedback.\""
   ]
  },
  {
   "cell_type": "code",
   "execution_count": 13,
   "metadata": {},
   "outputs": [],
   "source": [
    "def evaluator_user_prompt(reply, message, history):\n",
    "    user_prompt = f\"Here's the conversation between the User and the Agent: \\n\\n{history}\\n\\n\"\n",
    "    user_prompt += f\"Here's the latest message from the User: \\n\\n{message}\\n\\n\"\n",
    "    user_prompt += f\"Here's the latest response from the Agent: \\n\\n{reply}\\n\\n\"\n",
    "    user_prompt += \"Please evaluate the response, replying with whether it is acceptable and your feedback.\"\n",
    "    return user_prompt"
   ]
  },
  {
   "cell_type": "code",
   "execution_count": 24,
   "metadata": {},
   "outputs": [],
   "source": [
    "import os\n",
    "gemini = OpenAI(\n",
    "    api_key=os.getenv(\"GOOGLE_API_KEY\"), \n",
    "    base_url=\"https://generativelanguage.googleapis.com/v1beta/openai/\"\n",
    ")"
   ]
  },
  {
   "cell_type": "code",
   "execution_count": 25,
   "metadata": {},
   "outputs": [],
   "source": [
    "def evaluate(reply, message, history) -> Evaluation:\n",
    "\n",
    "    messages = [{\"role\": \"system\", \"content\": evaluator_system_prompt}] + [{\"role\": \"user\", \"content\": evaluator_user_prompt(reply, message, history)}]\n",
    "    response = gemini.beta.chat.completions.parse(model=\"gemini-2.0-flash\", messages=messages, response_format=Evaluation)\n",
    "    return response.choices[0].message.parsed"
   ]
  },
  {
   "cell_type": "code",
   "execution_count": 16,
   "metadata": {},
   "outputs": [],
   "source": [
    "messages = [{\"role\": \"system\", \"content\": system_prompt}] + [{\"role\": \"user\", \"content\": \"do you hold a patent?\"}]\n",
    "response = openai.chat.completions.create(model=\"gpt-4o-mini\", messages=messages)\n",
    "reply = response.choices[0].message.content"
   ]
  },
  {
   "cell_type": "code",
   "execution_count": 17,
   "metadata": {},
   "outputs": [
    {
     "data": {
      "text/plain": [
       "'I do not hold a patent at this time. My focus has primarily been on software engineering, MLOps, and network infrastructure, where I aim to solve complex problems using innovative solutions. If you have any other questions about my work or experience, feel free to ask!'"
      ]
     },
     "execution_count": 17,
     "metadata": {},
     "output_type": "execute_result"
    }
   ],
   "source": [
    "reply"
   ]
  },
  {
   "cell_type": "code",
   "execution_count": 26,
   "metadata": {},
   "outputs": [
    {
     "data": {
      "text/plain": [
       "Evaluation(is_acceptable=True, feedback=\"The response is appropriate. It correctly answers the question and is consistent with the agent's persona.\")"
      ]
     },
     "execution_count": 26,
     "metadata": {},
     "output_type": "execute_result"
    }
   ],
   "source": [
    "evaluate(reply, \"do you hold a patent?\", messages[:1])"
   ]
  },
  {
   "cell_type": "code",
   "execution_count": 27,
   "metadata": {},
   "outputs": [],
   "source": [
    "def rerun(reply, message, history, feedback):\n",
    "    updated_system_prompt = system_prompt + \"\\n\\n## Previous answer rejected\\nYou just tried to reply, but the quality control rejected your reply\\n\"\n",
    "    updated_system_prompt += f\"## Your attempted answer:\\n{reply}\\n\\n\"\n",
    "    updated_system_prompt += f\"## Reason for rejection:\\n{feedback}\\n\\n\"\n",
    "    messages = [{\"role\": \"system\", \"content\": updated_system_prompt}] + history + [{\"role\": \"user\", \"content\": message}]\n",
    "    response = openai.chat.completions.create(model=\"gpt-4o-mini\", messages=messages)\n",
    "    return response.choices[0].message.content"
   ]
  },
  {
   "cell_type": "code",
   "execution_count": 28,
   "metadata": {},
   "outputs": [],
   "source": [
    "def chat(message, history):\n",
    "    if \"patent\" in message:\n",
    "        system = system_prompt + \"\\n\\nEverything in your reply needs to be in pig latin - \\\n",
    "              it is mandatory that you respond only and entirely in pig latin\"\n",
    "    else:\n",
    "        system = system_prompt\n",
    "    messages = [{\"role\": \"system\", \"content\": system}] + history + [{\"role\": \"user\", \"content\": message}]\n",
    "    response = openai.chat.completions.create(model=\"gpt-4o-mini\", messages=messages)\n",
    "    reply =response.choices[0].message.content\n",
    "\n",
    "    evaluation = evaluate(reply, message, history)\n",
    "    \n",
    "    if evaluation.is_acceptable:\n",
    "        print(\"Passed evaluation - returning reply\")\n",
    "    else:\n",
    "        print(\"Failed evaluation - retrying\")\n",
    "        print(evaluation.feedback)\n",
    "        reply = rerun(reply, message, history, evaluation.feedback)       \n",
    "    return reply"
   ]
  },
  {
   "cell_type": "code",
   "execution_count": 29,
   "metadata": {},
   "outputs": [
    {
     "name": "stdout",
     "output_type": "stream",
     "text": [
      "* Running on local URL:  http://127.0.0.1:7861\n",
      "* To create a public link, set `share=True` in `launch()`.\n"
     ]
    },
    {
     "data": {
      "text/html": [
       "<div><iframe src=\"http://127.0.0.1:7861/\" width=\"100%\" height=\"500\" allow=\"autoplay; camera; microphone; clipboard-read; clipboard-write;\" frameborder=\"0\" allowfullscreen></iframe></div>"
      ],
      "text/plain": [
       "<IPython.core.display.HTML object>"
      ]
     },
     "metadata": {},
     "output_type": "display_data"
    },
    {
     "data": {
      "text/plain": []
     },
     "execution_count": 29,
     "metadata": {},
     "output_type": "execute_result"
    },
    {
     "name": "stdout",
     "output_type": "stream",
     "text": [
      "Failed evaluation - retrying\n",
      "This response is not acceptable. The agent is communicating in pig latin for some reason, but it should be answering the question directly and professionally.\n"
     ]
    }
   ],
   "source": [
    "gr.ChatInterface(chat, type=\"messages\").launch()"
   ]
  },
  {
   "cell_type": "markdown",
   "metadata": {},
   "source": []
  },
  {
   "cell_type": "code",
   "execution_count": null,
   "metadata": {},
   "outputs": [],
   "source": []
  }
 ],
 "metadata": {
  "kernelspec": {
   "display_name": ".venv",
   "language": "python",
   "name": "python3"
  },
  "language_info": {
   "codemirror_mode": {
    "name": "ipython",
    "version": 3
   },
   "file_extension": ".py",
   "mimetype": "text/x-python",
   "name": "python",
   "nbconvert_exporter": "python",
   "pygments_lexer": "ipython3",
   "version": "3.12.11"
  }
 },
 "nbformat": 4,
 "nbformat_minor": 2
}
